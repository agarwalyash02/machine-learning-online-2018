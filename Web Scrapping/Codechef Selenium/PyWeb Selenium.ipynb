{
 "cells": [
  {
   "cell_type": "markdown",
   "metadata": {},
   "source": [
    "# <p style=\"text-align:center;font-size:70px;background-color:#0ad61b;color:white;font-style:italic;\">Python for web</p>\n",
    "\n",
    "![](http://www.blog.skytopper.com/wp-content/uploads/2015/06/Global-computer-network.jpg)\n",
    "\n",
    "This bootcamp is all about interacting with **web** using Python programming language!\n",
    "\n",
    "In this bootcamp, we will learn:\n",
    "\n",
    "- to work with web APIs\n",
    "- to download content from web\n",
    "- web scraping\n",
    "- web automation\n",
    "\n",
    "using simple python scripts!\n",
    "\n",
    "![](https://i.amz.mshcdn.com/mqczOBQlR2uS7uALqB4fkKylDx0=/fit-in/1200x9600/https%3A%2F%2Fblueprint-api-production.s3.amazonaws.com%2Fuploads%2Fcard%2Fimage%2F193985%2Fnewhere.jpg)"
   ]
  },
  {
   "cell_type": "markdown",
   "metadata": {},
   "source": [
    "# 1. Working with web APIs\n",
    "\n",
    "- **What is API?**<br>\n",
    "    API is a set of routines, protocols, and tools for building software applications. An API specifies how software components should interact. \n",
    "![](https://www.retriever.nl/wp-content/uploads/2016/11/api-321x250.png)\n",
    "-------------\n",
    "\n",
    "- **What is web API?**<br>\n",
    "    Web API is a framework for building HTTP services that can be consumed by a broad range of clients including browsers, mobiles, iphone and tablets.\n",
    "![](http://dselva.co.in/blog/wp-content/uploads/2017/09/Web-APIs.png)\n",
    "-----------------\n",
    "- **Some examples of public web APIs:**\n",
    "    - [Facebook Graph API](https://developers.facebook.com/docs/graph-api)\n",
    "    - [Twitter API](https://dev.twitter.com/rest/public)\n",
    "    - [Google API explorer](https://developers.google.com/apis-explorer/#p/)\n",
    "--------------\n",
    "\n",
    "- **What is REST?**<br>\n",
    "    REST is an architectural style followed by web services, in which, they allow requesting systems to access and manipulate their Web resources using a uniform and predefined set of **stateless operations**.\n",
    "    \n",
    "    >In computing, a stateless protocol is a communications protocol in which no information is retained by either sender or receiver. The sender transmits a packet to the receiver and does not expect an acknowledgment of receipt. There is nothing saved that has to be remembered by the next transaction. The server must be able to completely understand the client request without using any server context or server session state. \n",
    "    \n",
    "   Advantages of REST:\n",
    "   - As the transactions are stateless, we can direct them to any instance of the web service. (As no sessions are involved). Hence, the web service can scale to accommodate load changes.\n",
    "   - Binding to a service through an API is a matter of controlling how the URL is decoded.\n",
    "\n",
    "-----------------\n",
    "- **Types of HTTP requests**\n",
    "    - GET\n",
    "    - POST\n",
    "    - DELETE\n",
    "    - PUT\n",
    "    - PATCH, etc.\n",
    "    \n",
    "![](http://lotsofthing.com/wp-content/uploads/2017/11/rest-api-1.jpg)"
   ]
  },
  {
   "cell_type": "markdown",
   "metadata": {},
   "source": [
    "### HTTP  for humans: [requests](http://docs.python-requests.org/en/master/)\n",
    "\n",
    "<img src=\"http://docs.python-requests.org/en/master/_static/requests-sidebar.png\"  height=200 width=200>\n",
    "\n",
    "\n",
    "- Requests is one of the most downloaded Python packages of all time, pulling in over 7,000,000 downloads every month.All the cool kids are doing it\n",
    "\n",
    "- Recreational use of other HTTP libraries may result in dangerous side-effects, including: security vulnerabilities, verbose code, reinventing the wheel, constantly reading documentation, depression, headaches, or even death. Requests is the only Non-GMO HTTP library for Python, safe for human consumption.\n",
    "\n",
    "- Python HTTP: When in doubt, or when not in doubt, use Requests. Beautiful, simple, Pythonic.\n",
    "\n",
    "***Everybody loves it!***\n",
    "\n",
    "#### Installation\n",
    "\n",
    "```\n",
    "pip install requests\n",
    "```"
   ]
  },
  {
   "cell_type": "markdown",
   "metadata": {},
   "source": [
    "## GET request\n",
    "\n",
    "### Example 1\n",
    "\n",
    "http://graph.facebook.com/4/picture?type=large\n",
    "\n",
    "![](http://graph.facebook.com/4/picture?type=large)\n",
    "\n",
    "![](https://encrypted-tbn0.gstatic.com/images?q=tbn:ANd9GcTJ3ELNuC_coeH9tvLn62fsTMoe-vMVQrsfTrLUOIhsUI69i5QIyg)"
   ]
  },
  {
   "cell_type": "markdown",
   "metadata": {},
   "source": [
    "![](http://i.imgur.com/gRvt4lV.png)"
   ]
  },
  {
   "cell_type": "code",
   "execution_count": 1,
   "metadata": {},
   "outputs": [],
   "source": [
    "import requests"
   ]
  },
  {
   "cell_type": "code",
   "execution_count": 2,
   "metadata": {},
   "outputs": [],
   "source": [
    "url = \"http://graph.facebook.com/4/picture?type=large\""
   ]
  },
  {
   "cell_type": "code",
   "execution_count": 3,
   "metadata": {},
   "outputs": [],
   "source": [
    "r = requests.get(url)"
   ]
  },
  {
   "cell_type": "code",
   "execution_count": 4,
   "metadata": {
    "collapsed": true
   },
   "outputs": [
    {
     "data": {
      "text/plain": [
       "b'\\xff\\xd8\\xff\\xe0\\x00\\x10JFIF\\x00\\x01\\x02\\x00\\x00\\x01\\x00\\x01\\x00\\x00\\xff\\xed\\x00\\x9cPhotoshop 3.0\\x008BIM\\x04\\x04\\x00\\x00\\x00\\x00\\x00\\x80\\x1c\\x02g\\x00\\x14EijAN2tIMJ-3dRhxQN6D\\x1c\\x02(\\x00bFBMD01000ac0030000dc060000890b0000fe0c0000600e00001e1100005f1600000f17000066180000a619000065220000\\xff\\xe2\\x02\\x1cICC_PROFILE\\x00\\x01\\x01\\x00\\x00\\x02\\x0clcms\\x02\\x10\\x00\\x00mntrRGB XYZ \\x07\\xdc\\x00\\x01\\x00\\x19\\x00\\x03\\x00)\\x009acspAPPL\\x00\\x00\\x00\\x00\\x00\\x00\\x00\\x00\\x00\\x00\\x00\\x00\\x00\\x00\\x00\\x00\\x00\\x00\\x00\\x00\\x00\\x00\\x00\\x00\\x00\\x00\\xf6\\xd6\\x00\\x01\\x00\\x00\\x00\\x00\\xd3-lcms\\x00\\x00\\x00\\x00\\x00\\x00\\x00\\x00\\x00\\x00\\x00\\x00\\x00\\x00\\x00\\x00\\x00\\x00\\x00\\x00\\x00\\x00\\x00\\x00\\x00\\x00\\x00\\x00\\x00\\x00\\x00\\x00\\x00\\x00\\x00\\x00\\x00\\x00\\x00\\x00\\x00\\x00\\x00\\x00\\x00\\x00\\x00\\ndesc\\x00\\x00\\x00\\xfc\\x00\\x00\\x00^cprt\\x00\\x00\\x01\\\\\\x00\\x00\\x00\\x0bwtpt\\x00\\x00\\x01h\\x00\\x00\\x00\\x14bkpt\\x00\\x00\\x01|\\x00\\x00\\x00\\x14rXYZ\\x00\\x00\\x01\\x90\\x00\\x00\\x00\\x14gXYZ\\x00\\x00\\x01\\xa4\\x00\\x00\\x00\\x14bXYZ\\x00\\x00\\x01\\xb8\\x00\\x00\\x00\\x14rTRC\\x00\\x00\\x01\\xcc\\x00\\x00\\x00@gTRC\\x00\\x00\\x01\\xcc\\x00\\x00\\x00@bTRC\\x00\\x00\\x01\\xcc\\x00\\x00\\x00@desc\\x00\\x00\\x00\\x00\\x00\\x00\\x00\\x03c2\\x00\\x00\\x00\\x00\\x00\\x00\\x00\\x00\\x00\\x00\\x00\\x00\\x00\\x00\\x00\\x00\\x00\\x00\\x00\\x00\\x00\\x00\\x00\\x00\\x00\\x00\\x00\\x00\\x00\\x00\\x00\\x00\\x00\\x00\\x00\\x00\\x00\\x00\\x00\\x00\\x00\\x00\\x00\\x00\\x00\\x00\\x00\\x00\\x00\\x00\\x00\\x00\\x00\\x00\\x00\\x00\\x00\\x00\\x00\\x00\\x00\\x00\\x00\\x00\\x00\\x00\\x00\\x00\\x00\\x00\\x00\\x00\\x00\\x00\\x00\\x00\\x00\\x00\\x00\\x00\\x00\\x00text\\x00\\x00\\x00\\x00FB\\x00\\x00XYZ \\x00\\x00\\x00\\x00\\x00\\x00\\xf6\\xd6\\x00\\x01\\x00\\x00\\x00\\x00\\xd3-XYZ \\x00\\x00\\x00\\x00\\x00\\x00\\x03\\x16\\x00\\x00\\x033\\x00\\x00\\x02\\xa4XYZ \\x00\\x00\\x00\\x00\\x00\\x00o\\xa2\\x00\\x008\\xf5\\x00\\x00\\x03\\x90XYZ \\x00\\x00\\x00\\x00\\x00\\x00b\\x99\\x00\\x00\\xb7\\x85\\x00\\x00\\x18\\xdaXYZ \\x00\\x00\\x00\\x00\\x00\\x00$\\xa0\\x00\\x00\\x0f\\x84\\x00\\x00\\xb6\\xcfcurv\\x00\\x00\\x00\\x00\\x00\\x00\\x00\\x1a\\x00\\x00\\x00\\xcb\\x01\\xc9\\x03c\\x05\\x92\\x08k\\x0b\\xf6\\x10?\\x15Q\\x1b4!\\xf1)\\x902\\x18;\\x92F\\x05Qw]\\xedkpz\\x05\\x89\\xb1\\x9a|\\xaci\\xbf}\\xd3\\xc3\\xe90\\xff\\xff\\xff\\xdb\\x00C\\x00\\x06\\x04\\x05\\x06\\x05\\x04\\x06\\x06\\x05\\x06\\x07\\x07\\x06\\x08\\n\\x10\\n\\n\\t\\t\\n\\x14\\x0e\\x0f\\x0c\\x10\\x17\\x14\\x18\\x18\\x17\\x14\\x16\\x16\\x1a\\x1d%\\x1f\\x1a\\x1b#\\x1c\\x16\\x16 , #&\\')*)\\x19\\x1f-0-(0%()(\\xff\\xdb\\x00C\\x01\\x07\\x07\\x07\\n\\x08\\n\\x13\\n\\n\\x13(\\x1a\\x16\\x1a((((((((((((((((((((((((((((((((((((((((((((((((((\\xff\\xc2\\x00\\x11\\x08\\x00\\xc8\\x00\\xc8\\x03\\x00\"\\x00\\x01\\x11\\x01\\x02\\x11\\x01\\xff\\xc4\\x00\\x1b\\x00\\x00\\x01\\x05\\x01\\x01\\x00\\x00\\x00\\x00\\x00\\x00\\x00\\x00\\x00\\x00\\x00\\x05\\x00\\x02\\x03\\x04\\x06\\x01\\x07\\xff\\xc4\\x00\\x19\\x01\\x00\\x02\\x03\\x01\\x00\\x00\\x00\\x00\\x00\\x00\\x00\\x00\\x00\\x00\\x00\\x00\\x00\\x01\\x02\\x03\\x04\\x05\\xff\\xc4\\x00\\x19\\x01\\x00\\x02\\x03\\x01\\x00\\x00\\x00\\x00\\x00\\x00\\x00\\x00\\x00\\x00\\x00\\x00\\x00\\x01\\x02\\x03\\x04\\x05\\xff\\xda\\x00\\x0c\\x03\\x00\\x00\\x01\\x11\\x02\\x11\\x00\\x00\\x01\\xf3\\xdew\\x9b\\xb2vXe\"\\xd6\\xf5\\xc0\\xb8\\x9a\\x123\\x9c\\x1b\\xb8\\x93\\x12\\xeaO\\x89&\\x92H|]\\xe0$\\x90$\\x90$\\x92;\\xc5\\xd0RD\\x85#8\\x81$\\x9bR\\xad\\x0ek\\xc5\\xd8\\x96l\\x1a\\xd9D\\xfbj\\xb8K$e\\x954qG\\xddH>H\\xce\\x96.$\\x98\\x97x\\t$\\t$\\x84\\x92b]A\\xce\\xab\\xd0\\x95\\x82P\\xedx\\xfdH\\x8d=\\xf5j\\x96\\x95\\x84\\xd6J\\xb6\\xca\\xaa~h\\'\\xd10\\xd6\\xe7\\xa2\\x98\\xfe\\x9f7\\x9d\\xeftQ\\xc4\\xba\\x1c\\xe3\\xba\\x11\\xa4\\x93Iu\\x89$\\x08\\xf0-\\x06M\\x16\\xb7\\xd8}\\xaf3\\xa9fj\\x93\\x13\\x9a(-5N\\xa5\\xf8ah\\xe1\\x07\\x00%\\x82}\\xdb\\xfd>@N\\xe9\\xe5\\xbe\\x9c\\xb4\\xbaX@C\\xee\\xb0 \\x92H\"\\xe5\\xe40\\xb4U\\xf2\\xd3\\xaa\\xdbA\\xf5D\\xf3\\xeb\\xcf\\xee\\xb3z\\x8c\\xdaF\\xe7\\xb6\\x02\\xa6U>,\\xbce\\x9e\\x8ce\\x96[\\x04\\xda\\xae\\xb0\\xd7\\x02h\\xf6`Df\\x92Q\\xadH\\xacaA\\xcc\\xades\\xde\\xa6\\xc8J\\xfc0\\xd8\\x8c\\x9d\\x15;\\xcdj\\x8a\\xe4\\xf7yw\\x85.>\\xf5\\x17:8bn\\xe38\\xd8\\x99\\x03\\x01\\xcf\\x92\\xcc\\x86\\xde\\xe2l\\xab\\'\\xb0\\xcc\\xe8\\xb6\\xf3\\xa3\\xb5bI t\\xceKeT\\xadJ\\xd8N\\x95\\xca3\\xa7=q\\x96\\xa5\\x0e\\xdf\\xafv3\\xad\\xe9\\x1eY$,\\xf4.\\xf5\\xf8:`\\xb4 \\xacI\\xdb\\xc6\\xedA\\x06;\\xd02E\\x93\\'\\xe7\\xba\\x8c-\\x95I\\xa6\\xcd\\x90\\xdd\\xcc\\xd0\\x02\"A,\\xc1\\xe9\\xba\\xc0\\x02\\xf4\\xd1]LE3\\xdd\\xaeF(\\x07-(\\x94\\xa66\\x90j\\x99\\x9e\\xd2B\\xcd\\x95\\xe1\\x85y\\x9d~y\\xff\\x00\\xa3Ad|\\xca\\xd6\\xb38\\xdew\\xd0\\xc7X\\xaeY\\x00\\xd3\\xd7\\xd9\\x84\\xed\\xcc\\xaf6`\\xd2R\\x10\\xa4\\xac25ew\\xa6\\x16\\xa2\\xd3\\xb8\\x88\\xf3\\xa9\\xc2\\xb3\\x06\\x88-v\\xd5\\xd9\\xe3}\\x02\\xbbMYp\\xceW`\\xe5WI 8](\\xc5d8\\xf9\\xc1\\xd9Ak/\\x01\\xd1\\xe5FO\\xba)C\\r\\xd2Eg\\x1c\\xc3\\xe4\\xd0\\xc9f\\x1eX\\xf4%\\x911^\\xe5r\\xe4\\x02\\xcd)u48\\x1f\\xd2fv\\x99\\xb5\\x95\\x12n\\x0c\\xba\\xf2\\xd4\\xc9\\xe4\\xd4\\xca\\xe7Ui\\xc2\\x06\\xae\\xe9\\xcb\\xa5\\xb1\\x9e\\xd2h\\xc9\\x97\\xd2gt\\xb2\\x86C[\\x9d\\xd1\\xb3/\\xa6\\xadr.\\xa1l\\xd9\\xe8\\xcc\\x01<\\xcd\\xbb*%%w\\xd7>\\t\\x8fId&\\xdeQ\\'\\xcb\\xea\\xcc\\xf8^\\xa4\\xc1\\x05@\\xa9\\xe0Fo^<CM\\xe6te\\xd1\\xd4\\x14\\xde\\x8f3\\xb7\\xe8r\\xda\\xee\\xb2\\xaaN\\xfcU\\x90\\xba\\xe6)&\\x15\\xaef\\x8b\\xab[7>[\\xeb\\xca\\xeeUm\\xbd6\\x14\\xd5v\\x9b\\xeb\\xe3\\xafEq\\xa4\\x1f\\x1b(P\\xba\\x051\\x01\\xca\\xd7\\xd1\\x8a\\xabn\\xba\\xec\\xe1xr=Y\\xc3r\\xf5=\\x14\\xc8\\x97]q\\'\\xb1\\xcb\\xd1\\x93\\x99\\xc7\\xe9\\xb9\\xb3\\xc6\\x0c\\xe3\\x9a\\x1c\\x18P<\\x80\\x1b\\x1f9\\xa2\\x9f\\xb5W\\xc7\\xa52\\xf5\\xa1\\xbd(W\\x8ehZN\\xafq(\\xe4\\x95\\xe9\\xd7\\x8e\\xc3D n\\xab=\\xb3\\x1c\\x0cz\\xd5\\x9b\\xff\\xc4\\x00-\\x10\\x00\\x02\\x02\\x02\\x01\\x03\\x02\\x05\\x03\\x05\\x01\\x00\\x00\\x00\\x00\\x00\\x01\\x02\\x00\\x03\\x04\\x11\\x12\\x05\\x13!\\x10\"\\x14#013 2C\\x06$4@A\\x15\\xff\\xda\\x00\\x08\\x01\\x00\\x00\\x01\\x05\\x02\\xf4\\x1e\\x9b\\xff\\x00gS_\\xaf_\\xe8\\xeeo\\xf4%l\\xf11\\x1c\\xca\\xe9\\xd9pD`T\\xea\\x8b\\'n\\x98\\xd4)\\x8c\\xba?^\\xb5\\xe4\\xdc\\x99\\x17{\\x15\\xd7e\\xa7\\xff\\x00*\\xd6\\x03\\x00\\xac\\xc8\\x16!\\xad\\xc0\\x9c\\xb6md\\xe2\\xc3G\\xebc\\xa1I\\xc7\\xbe\\xd8\\xdd9+Z\\xaaD\\x9e%\\xb4Wdn\\x98C=\\n%\\xb4\\xb2Gr\\xd1[\\x7f[\\x15\\x01e\\xdd\\x8d\\xd3\\xf1\\x85\\x15\\x0fS7\\x1fFfVJ_\\x8e\\xd5\\x92\\x7fI\\xfa4{qq+?\\x11\\x16\\t\\xa8cC\\x1ee dd)o\\xdf\\xd7\\x83AK\\x98\\xb8\\xad\\xf4\\x13MF\\x05\\x9c\\xd8~\\xd5\\xe4c\\x07\\x01l;:a\\x18\\x08\\xe2e\\xb6\\x97,{\\xf1hSWf\\xb1\\x16\\xa4\\x8d\\xc1!\\xbe\\xb1\\x0eZ\\xc1\\x87>\\x0e\\x1c@\\x02c,\\x18\\xab>\\x1d\\x04J\\x15\\x9b.\\xbb1\\xed\\xe8\\xd5\\xeeks##\\xb72\\xba\\x9d\\x94>>WxT<_\\x91\\xc2\\xceVY>r\\x0c\\xd7\\xe42_\\xd9\\x8e\\x8e\\xd4\\xf6,\\x98\\xf5\\x94\\x97\\xd3\\xdc\\x9f\\x06\\'\\xc2\\xa4\\xbb \\xabw\\xec\\x86\\xcbHW\\xb4\\x9a9q\\xbdl\\'\\xa4c\\x1e\\x1dO\\rl\\xc4\\xe9@\\x00\\x9eAP\\xb3#\\x1d,8\\xd4\\x00\\xe7\\xf6\\x94\\xe7\\x91o:\\xb1\\xf1\\xfa\\x97)\\x9e}\\xf6\\x9d\\x9cgaR\\x18\\xae\\tw\\x0b\\x1b\\xdf,\\xae\\xc9\\xad\\xdc\\xfc\\x12/\\x16Z\\x80\\xe7e\\xa1\\t\\xbat\\x8b\\x05\\x94\\\\Z\\xc9EK\\\\A\\xe1\\xc4\\x03\\xd2\\xcf\\x15\\xaf\\xe6$\\x99\\x97M|r\\xb7\\xdbOu\\xa1\\xd2\\xa4\\xee\\x9b\\x8dI\\xda\\x99\\x96\\x86\\x95\\xdc\\xeb+\\xcb\\x9f\\xcd\\x9f\\xfbp\\xbf\\x1d_\\xbf\\'\\xf2\\xba\\x8e\\xcf@oz\\xfbkO\\xba\\xb6\\xa5\\xd7\\xe9kb\\xc1\\x1d\\x18\\xde@O\\xe7Q\\xe2\\xcf\\x03\\xa9[\\xe3\\x19y\\xdf\\xf0\\x9b\\x94\\xd2+\\x96\\x00\\xd3\\xb1\\\\Z+\\x86\\xa4Y\\xfc\\xd6\\xa8h8\\xd6\\xb47\\'\\xc9\\xfc\\xaf\\xf8z]\\xa6\\x9bV\\xd4z\\x97\\xec[IO,\\x8b\\x15N\\xaf\\xa4k7.\\xca\\xa5YV\\x13\\x8e\\xfc\\xab\\xb9\\xbcg\\xb7\\'\\xa4\\xf6\\xdf\\x15\\x99\\xe5\\xdb\\xd3\\x0b\\xe7\\xce&\\x85(\\xb9\\x97\\x12\\xdf\\xcf\\x94HP\\xb6Y(\\xf9E\\xbec\\xd8\\xbf.\\x9d\\xd3)\\xb7\\x9em\\x7fg_\\x97h\\xb6\\x9cL<l\\x97W[\\xeb\\x197\\x88x\\x16\\xc5c\\xbc\\xeb\\xb8\\xad\\xc7qQ\\x88\\xa9\\xadY[\\xbc\\x1eC\\x14\\x13\\x9a\\xb0lex\\xab\\xca\\xe6\\x03E\\xd5a\\xa8\\xda\\xe8\\xa2\\xb0\\xd9@8+`\\xc6\\xa0\\x0c\\xfaO\\x9f\\xf8\\xa9\\xf2s0rj\\x95uN\\xa1\\x86\\x07[[\\xa65v\\xdfu\\x18\\xcbU}F\\xcewh\\x99\\x8a\\xf5\\x8a\\xcd\\xf5\\x88\\xd9j#\\xe6\\x13\\x1e\\xd6h\\x1d\\x84\\\\\\x97\\x12\\xab\\xf8\\xb5\\xb9\\x04\\xceD\\x9a\\xb2x\\xad\\xb9\\x05\\xbd*\\xb0\\xa4\\xe8\\xecm\\xcc_\\x16\\xaf\\xa5\\x9a1\\xd7\\xc5\\xd8\\xd5\\xf2\\xc4\\x1bn\\xab\\x95\\xda\\xaa\\xdf\\x13\\x7f@z\\x7f\\xd3+\\xc7.\\xa4q\"\\x7fN\\xa4\\xb8jT\\xdb\\x12\\xd5\\xd9}\\x89hgu\\xd5+\\x95wr\\xcc:C%\\xd4\\xd7\\xc0\\r\\xb3\\xe3q\\xaek\\xd3\\x89\\xf5\\x10\\x8fL_\\xc3r\\xb1\\xb0\\xa3,\\xfe\\x9d\\x1f\\xd9\\xba\\xfbT\\xf1j\\xec\\x04;\\to\\xd9\\xecZ\\x86VWp\\x9fsd\\xd6\\xcbS\\x17\\x13\\rT\\x96\\x03\\x86@NmJ\\xf6*\\x1f7%\\x07c\\x02\\xaeE\\xd3OU*\\xab\\xc6\\xb69\\x88\\x150\\x7f\\x1b\\xba#X\\xaa\\xf5\\xf45\\xe3\\x83\\xaf\\x17,w\"\\x1c\\xf2\\r\\x9dG\\xc6E\\xefi?e:z\\xb2\\x95\\xa5\\x95%\\x88\\x01\\xae\\xfb\\x7f\\xc7\\x1f\\xbc\\xff\\x00\\x8fW\\xe6\\xc9\\xff\\x00\\x1f\\xa7\\xfe\\xcb\\x87\\xf7\\x19>*\\xc5\\'\\xbb\\x9b\\xf8\\xb0\\xbf\\x1eW\\xe5\\xa7\\xf0t\\xf4\\xed\\xe3\\x01,M\\xcc\\xacv\\x97x$,c\\x1aV\\x85\\xcf\\xc3Y\\xbaG\\n\\xaeo\\x9e\\x07r\\x8b\\xa955\\x04=+\\x8c\\x12\\xcc\\x9dvpm\\xe0\\xd9g\\x8d\\xc3V\\xd7]\\x0b[f~,\";y_\\x97\\xa7\\xd7\\xde\\x82,0\\xcc\\xbcz\\xacL\\xbaMNbP\\xc5k~\\xd5\\x9f\\x1a%\\xb9e\\x84\\xab%\\x90_y\\xb6UsW\\x1f%\\xda\\x1b\\x98\\xac\\xb6\\xce\\xe1\\xa4Y\\xaa\\x96\\xc6l\\xd6\\xd2T_\\x96>\\n\\xf1\\xc0\\x03\\xb5\\xa8=\\x0c\\xcd\\xc8\\x95\\xd4\\x0c8u\\t\\x95\\xed\\x8e\\x84\\xb9]}*rx\\x0f\\x8b\\xdc\\xab\\x05\\xee5T\\x95!\\x98V\\xf6\\xed#\\xd0\\x98\\xe65{\\x818\\x8b\\xac\\x97\\xfb\\xda\\xc1\\xee\\x03s\\xb3\\xb8\\xcaW\\xf4\\x08G\\xa5x\\xd7Y(\\xe9\\xbek\\xa6\\xaa\\xe6\\xe1\\xf0\\x0f\\xb8\\x19\\x87\\x99\\xa1\\xad\\x82<k\\xce\\xa6Cj[\\xf6\\xb5\\xa5u\\x938\\xb6\\xc2\\x905\\xb8q\\xc1\\x8fK\\x8fA\\xf6\\x10\\xcf\\'\\xd3\\xfek\\xc9\\xf4#r\\xf6\\xe2Nn@\\x9d;\\xae\\xd4q\\xe8\\xeax\\xf6WoS\\xdc\\xb3!\\xac<I%\\x14M\\xecO3S\\x8c\\xd7\\x97\\xad^Y\\x8aD\\xd6\\x8c\\xff\\xc4\\x00\\'\\x11\\x00\\x02\\x02\\x01\\x03\\x03\\x03\\x05\\x01\\x00\\x00\\x00\\x00\\x00\\x00\\x00\\x00\\x01\\x02\\x11\\x03\\x12!1\\x10\\x13A\\x04 Q\"#02Ba\\xff\\xda\\x00\\x08\\x01\\x02\\x11\\x01?\\x01\\x1fZ\\xfcTWLXu\\xeeC\\x04Q\\xdblx\\xa3{\\xa3\\'\\xa7O\\x8f\\xc1\\x18\\xeatb\\xc7J\\x8a\\xad\\x8a4\\x99!Fu\\xbd\\xfb\\xfd7\\xecc\\x1b.\\x84\\xc9pf\\x85\\xf0vY\\xdaK\\x96i\\xc7\\xf2}\\xb5\\xb1p\\xf8)%tb\\xc2\\xb4j\\xf2ETGo\\xf5\\x1f\\xc0\\xe5C\\x95\\xc6\\xd1\\x93r0KrP\\x8b6_\\xc9\\xc2l[\\xd3-\\xdb0\\xce\\xe0\\x98\\xf8\\xd8Qu\\xb9\\xe4\\xa3*\\xa4OR\\xe0Q|\\xb3\\xb76\\xec\\xfa\\x97,\\xbd\\x98\\xa7l^L\\x19T*,\\xb1\\xbf\\x96E\\xda\\xd9\\x91\\xff\\x00L\\xef\\xc1\\x97%N\\x86\\xb5\\x91\\x86\\x92X\\xe4\\xdd\\x8b,R;\\x8aN\\xa4K7\\x88\\x98\\xa6\\xa74\\x86l\\xf6\\x91\\xd8\\xad\\xd383\\xfa\\x85\\x16w\\x98\\xf2I\\xf4\\xd6\\xfa\\xca\\x1b&zH\\xfd\\xde\\x88\\xf0Nfio\\xc1\\x8f\\x1e\\xa5b\\x83vF6\\xac\\x8e-J\\xc8E+f\\xd2\\x8b\\x1c\\xb4\\xc1\\x1e\\x9d\\\\\\xb5\\t\\xef\\xd2M\\xb3+\\xd3\\x16\\xc87-\\xa4b\\xf2\\x8c\\\\\\xb4F.1vb\\x92\\xd2)\\xee\\x7f,W5H\\xc3\\x1d1\\x1a\"8Y\\xeac\\xf4\\xd2%9\\xf0\\xc4\\xeb\\x82\\xfc\\x96\\xdfH\\xc6^\\x0e\\xdd\\xfe\\xdd!:\\xd8N\\xce\\x0b\\xa3,\\xf5\\x12\\x8a\\x97$\\xb0?\\x06\\xeb\\x9fz\\x93GrLm\\xbe}\\x9c\\x99\\xf1\\xa8\\xee\\xba\\x7f\\xff\\xc4\\x00(\\x11\\x00\\x02\\x02\\x01\\x03\\x04\\x01\\x04\\x03\\x01\\x00\\x00\\x00\\x00\\x00\\x00\\x00\\x01\\x02\\x11\\x03\\x12!1\\x04\\x10\\x13A \"2BQ#@Ra\\xff\\xda\\x00\\x08\\x01\\x01\\x11\\x01?\\x01\\xfe\\x8e|\\xfe-\\x91>\\xa2r\\xf6)P\\xb2\\xce\\xb6f.\\xa6Ki\\t\\xdf\\xcerPV\\xcc\\x93\\xd6\\xf5\\x0b\\xbc%|\\x9d;\\xda\\xbe}_\\xd81&P\\xd0\\xb90\\xe4\\xd2y\\x91\\xe5o\\x84j\\xc8\\\\\\xd9\\xf5~\\xc4\\xdd\\xd5\\x99f\\xf5Qv\\xc4\\xff\\x00g\\x02V(nc\\xdb\\x82RlR\\x927~\\xceZCUe%FX\\xd4\\x9a\\x10\\xff\\x00\\xe7d\\xc8;d+\\xd8\\xe4\\xb8B\\x9cR\\xa3\\xe9en\\x87\\nC\\xf4f\\xc7\\xabu\\xd9*\\x1d\\x121/d!p\\x13\\xd0JZ\\x88\\xe4\\x8aC\\xc6\\xdb48\\xf0G\\x17\\xfa2A\\xc2-\\xf6Lm>G\\xb9\\x8b\\x03\\x92<\\x08X\\xa2iG\\x8e=\\xe3;t\\xce\\xa9\\xff\\x00\\x1fv\\xccp1F\\xd7&L\\x94\\xe8\\xf2Q)\\xd3\\xa2Y\\x94]\\x12\\x93t\\x8aq\\x92\\x14nl\\xce\\xea:J\\xed\\x13\\x12\\xb7D\\xd2\\x8e\\xf12zf]\\xe9\\xa2R\\xd5%FH\\xbdD\\xa1\\xb1\\xf9\\x0e\\xb1\\xbbfY\\xb9\\xc8C\\x14\\x8c\\x13\\xa7l\\x8c \\xf7CI\\x9aUQ\\xa5v\\xc9({\\x1eZ\\xfbNIF\\xf7+\\xbc#\\\\\\x91\\x9b\\x8f\\x04z\\x95\\xf9\\nJ\\\\|\\xf4\\xa6hEW\\xc1m\\xc1\\x83+\\x96\\xcf\\xb7\\xff\\xc4\\x002\\x10\\x00\\x01\\x03\\x02\\x05\\x02\\x04\\x04\\x06\\x03\\x01\\x00\\x00\\x00\\x00\\x00\\x01\\x00\\x02\\x11\\x10!\\x03\\x12 1A\"Q02q\\x81\\x04\\x13a\\x91#@Br\\xa1\\xc1\\x14Pb\\xd1\\xff\\xda\\x00\\x08\\x01\\x00\\x00\\x06?\\x02\\xff\\x00w\\xd2\\n\\xbc\\x05\\xd2\\x01\\x03\\x92\\xbc\\xe0z\\x053\\x9b\\xddu\\x07a\\x9fEi]\\x0b\\x9f\\xc8B\\xe9\\x19B\\xde\\xdc\\xa8\\xc3l7\\x80\\xba\\x9dt!F\\xea\\xff\\x00b\\xac\\x14s\\xf9\\x00O(5\\xb2P\\xcfw+\\n\\x19\\xfe\\x11\\x82\\\\\\xdfU\\x18\\xed\\r\\xfa\\xf7D\\xe1\\tf\\xeb\\xb2\\x83\\xe3fv\\xc1f*O\\x9d\\xdf\\xc6\\xab\\xa3\\xf2\\xc2\\x98B<f\\x9e\\xe50;o\\x04\\xca#F\\xcbo\\x06\\x01\\xf2\\xac\\xc7\\x82\\xa4\\xab)]WV\\xd2\\xd3\\xec\\xa5\\xd0\\xb8VW\\xa5\\xb5\\xe5h\\x92\\x8b^2\\xcao\\xdd}\\x10kVR/\\xfb\\x95\\xc4:\\x91\\xca\\x90\\xa5\\xc08)\\x14ii^e}\\x10\\x17\\x95l\\xac\\xae\\xbaS\\xdd\\x89r\\xee\\x94\\xd0\\xe19v(\\xc7\\x14\\xf2\\x02\\xa4\\xfc=\\xfb\\xa9\\xc9G\\x9d\\xdc\\xbec\\xed\\x1c\\x13\\xff\\x00\\x8b\\xad\\xb0\\x11\\xfa\\xd1\\xad\\n\\xf4\\xba\\xb2\\xb1W\\xa5\\xb4z\\x14\\x1a\\xc0\\x0b9\\x94\\xe6\\xb3\\xbc\\xe9*U\\xfa\\x87\\xd5t\\xe1\\x16\\xbb\\xe8\\x16b\"\\xc9\\xa3\\xba\\n\\x1a\\xa5\\xc5Z\\x97\\xd2)\\x88\\xde\\x08\\xa1\\xac\\xae\\x97\\x0b\"\\x89\\x1e^k\\x07d\\x15\\xe9\\xba\\xe2\\x97\\xa5\\xea)\\x9c,\\xcd6\\xa4\\x95\\x99\\xdb\\r\\x853@\\xcf\\xdc,\\xa5\\xa4(\\x8d\\xeaW\\xa2\\xba\\xb5e\\xca\\x05-K\\xd2\\x15\\xd6\\x0bA1\\x9cP\\x84\\xd7`q\\xba\\xcf\\x8d\\x8c\\x01<\\x04vx\\x08\\xb7\\x1f\\x0e\\x08\\xee\\x14\\xb6\\x86\\x93\\n\\xc1]^\\x9b\\xa9R\\xae\\xac\\xa6\\x91L(\\xef5\\xca\\x9e>\\x1b\\x1d\\xed\\xc1?\\xa2P\\xc3\\xc4\\x1f0o\\xd6?\\xb5\\x97\\xe2pCZo;\\xa2p\\xac\\xce\\xe5ID\\r\\x85!p\\xac\\xac\\xaeV\\xf4*\\xca\\xfa\\\\O\\xe9f\\x8b\\xa2\"Gcu\\'\\t\\xbfd\\x16F\\xee\\xb2\\xf3\\xb9\\xf1eE1\\xdf\\xe8\\x14\\x8d\\x17\\\\\\xab\\xee\\x8e!\\xf6G\\x11\\xfc\\xec\\xac\\xa1N\\x8d\\xb5\\x98\\n\\xe18\\xf7}#\\x8d\\x04\\x9d\\xd1\\x03\\xdd\\x00\\x83p\\xf8P\\xe9W\\xde\\x83.\\x89+*\\x93\\xa2\\xeaP\\xfd\\xc6\\xb2\\xd3u\\x0ej\\xe9[\\xd0\\x15\\x05YF\\x81P\\xad\\xa9\\x8d\\xf7\\xac\\x85\\x0f\\xb6\\x8bS\\xaa\\x91HY\\xa9\\x05\\x03\\xa9\\xac\\xe0\\xdc\\xfai9\\x82\\xb7\\x96\\x92\\xeb\\n\\xc0\\xd1jEzWR\\x85\\x95\\x92IY\\xbe\"\\xef\\xed\\xd9:\\x00\\xdfNVn\\xae3z\\xac\\xcdh\\x05]f\\x1e\\x1c\\x15\\r\\x12Vo\\x889\\x7f\\xe7\\x95\\x18m\\x84\\x14\\x1f+\\xbc(V\\xb2\\xb8\\xd7\\xd1\\x86\\xe5\\xf8\\xee\\xf6\\x0b\\xf0\\xda\\x06\\x90\\xccm\\xb8*E\\xf4@[\\xa2\\x1a\\xa4\\xa9\\x14\\xb8\\xb2\\xe9\\x90\\xbc\\xbfm=\\xe9\\xb6\\x8b\"\\xd0r\\x86\\x8c\\xcetl\\xbaq\\xb1\\x04v)\\xdf\\xe7;.#y\\x03\\xcc\\x8b\\xc0}\\x8a?-\\xad\\xf7+\\x7f\\xb2\\x92i\\xfdWj\\xf5\\x00W\\xe1\\xdf\\xe8\\xafO\\xff\\xc4\\x00\\'\\x10\\x01\\x00\\x02\\x02\\x01\\x04\\x02\\x03\\x01\\x00\\x03\\x01\\x00\\x00\\x00\\x00\\x01\\x00\\x11!1A\\x10Qaq\\x81\\xa1 \\x91\\xb10@\\xd1\\xf0\\xc1\\xff\\xda\\x00\\x08\\x01\\x00\\x00\\x01?!zo\\x18\\xc5\\xc3Pi\\x8e\\xa0\\xd3\\x16\\xe5\\xff\\x00\\xc0\\'\\x1dA\\xa8\\xcb\\xea\\x12\\xdd\\x9f\\xf5#\\tq\\x87\\xf0%\\x95\\xe6\\xa3:\\xa6\\xd7\\x88=\\xf85\\xc7\\xcd\\x9d\\x10\\xc7\\xac\\xb4\\x86\"\\xfa\\xc8c\\xa8|\\xdc\\xb0\\xebH\\xf6\\x8bEZ?\\x99\\x1e\\x97\\xf8\\xd7\\xf0\\xda\\xf6!G\\x83\\xa3\\xbc\\xb5N\\x9bS\\x08/\\xcc\\xf9\\x8d\\xc5\\x0by\\xcc\\x1fEc\\xd3+7\\x0enZ\\x8e\\xabA\\x89\\xda\\x9c\\xdf\\x11\\x05\\xa0\\x8aj`?\\xde\\xa6\\xd3\\x9ex\"\\xef#\\x83\\xcc\\xa2\\x83o\\xc7\\xa9\\x8d\\xc5\\r\\xf10j/*\\xa3j\\xa6\\xc3\\n\\x97\\xd5\\x8d\\rB5\\x07.\\'\\x1ax\\x12\\x87\\xeb\\x8fJ\\x95\\xd2\\xbf\\xc2\\x8a\\xdf\\x1dm\\x96\\xfd\\x88\\x00\\xec\\xb3\\xe1\\xdb\\xa3\\xd4\\x08#IC\\x0b%h\\x0b\\xba\\xe65T/$\\xcbFy\\xfc\\x0e\\x83\\xfc\\x05\\x80\\x02\\xaf\\x99\\xee\\x05\\x97\\x8e\\x81s\\xba\\x1e\\xd11\\xe6i\\xe2\\x11k;m\\xc9\\x0c.T\\x05\\xe2\\t\\xa5\\xd0\\t\\xfc\\xc1\\x88$\\xe5;\\xbe\\xa1\\xea,0bli(\\xc4\\xf5\\x07L\\x12\\x93!\\xe6b\\xd1\\xa8\\x86bf2\\x0f\\x0e\\xf2\\x7f\\x90V\\xe2\\xc3z\\x1b\\xc2\\x1di\\xa5\\xa8h\\xf6@s\\xd1\\x8es;2r\\xaa\\x1f\\xb5\\xe8#K\\xab\\\\$\\x1c\\xdc\\xdb\\x98\\xb3\\xa4\\xb6\\xaa}]\\xbd\\x82^\\xbe\\x86M\\xe7\\xc5A;;\\x11\\xd7p\\xde\\x06\\xf2Eo`/0O\\x059%\\x95\\x94H\\x12[\\xb5\\n\\xcdzC\\x95\\xfb\\x81v\\x95qY~\\x97V`\\xf730D-b\\x9e\\x03s\\xb8\\x01\\xf6\\x13\\x85\\xa0!\\x16\\xef2\\xdbbh\\xdb\\xaa@N\\x94U\\xb1\\xe7Z\\x88(\\xd9\\x82]0\\xa8Y\\xc7\\xc6\\x91w\\x17Y\\xb1\\x99CBS\\x06s\\r\\\\\\x04@\\xb9\\xa5\\x11H\\xc1\\x9c\\x1c\\xab\\x85(d%\\xb5\\t\\xc4JTZ\\xba\\x9b\\x86\\\\|^bf\\x97\\xe2\\x8c\\x02\\x86T\\xd3\\xa5\\xe5\\x94w\\x99\\xaf\\x11\\xe5\\xe4\\xcb0\\t\\xc7){\\xcc\\x08\\x15d\\x80S\\x0b\\x88\\xe1\\x061a\\x05tDPc^|O*K\\xa8,?\\xbe\\x8d\\xb6\\xed\\xd17\\x7fx\\x1bT\\xf7#\\xf71\\x04\\xf9#\\xcc\\xf7\\x94\\xa0\\xb5\\xa1,Q\\x0f1\\xb0\\x97b\\xf5\\x04,b\\xb6\\x06XLa1\\r\\x98\\x9d\\xe5\\x94\\xa9z\\x08\\x87\\x95\\xfc\\xc3\\xfbAj\\x93\\xbc\\xc25S\\x82G\\xfb\\xe9\\r*B\\xc3\\x0f\\xed\\xe8\\x90\\x1b\\xa5\\x13\\xb9\\r\\x05]\\x1b>(\\x11\\x99\\xa2\\x0e\\x17\\x14\\x89\\r`a\\xaa\\x05\\xc4\\xad\\x9d\\xac\\xb0\\x07\\xb9\\xdeWw\\x18\\xd4\\x00^\\xda\\x88)\\xbc\\xa1\\x03\\xd1\\xe0w\\x02\\xaeIa%\\xcb\\x8b7\\x1d\\xea\\x17\\x96\\x89Z\\xdc\\xa9\\xa4V\\xa9q\\xe1q\\x0c\\x8a\\xc0hfJ]2*\\x08\\xb1[f\\xc6\\xa0\\x1b\\x8f\\xe3\\x82\\xc6\\xd8\\x1a8#q> \\x88\\xb8H\\xd7%a\\xe5n\\x01\\t\\\\@\\xe9j.\\xab8\\x82#\\x9a\\x98\\x08y\\xc1^\\x90p\\x91\\xea\\x90\\xc5\\xb1-\\xee\\xe6p\\x9cZ0p_\\xa12\\x0ec\\x95\\x039\\xc4S\"\\xa5\\xc0f\\xeaT/\\xc2\\xe5\\x86\\x16%\\x87\\x86&Z\\xd7\\xc1/\\x1a\\xa1\\xb6{*\\xb0&\\xc3\\xdc\\x14\\xf3]\\xfa\\x13\\x86MF\\'\\x92k\\x14\\xdc\\xe6\\\\\\x19o\\xa92\\x8a\\xe6\\r\\x98s\\x04s\\x12\\xc3\\x89\\xa1\\x04\\x7fi\\x16(\\xe0\\xd2\\xcc\\xea\\x1e\\x99\\xc8\\x0f\\x00>\\xe7\\xb8\\xb8\\xd4\\x00\\xd0\\x18\\x9d\\xe1\\xe0\\x8a\\xb9[m\\xf3\\x15Y\\x97\\xf9\\xeb\\t\\xa8\\xd3\\xa4\\x17\\x8b\\xa2\\xff\\x00\\xfd<\\xcf(3\\x04\\x98\\xee$\\x02E{C\\x11e\\x0c3\\xe2.I\\xc4\\xf2\\xf2\\xabK\\x06\\x970\\xae\\xf3\\xe1s\\x99n\\xd0\\xdcC*\\x80\\xad\\x12\\xa5\\xae%\\xeaR\\x19#\\xfaK\\xd8\\x9b\\x80\\x94\\xf7\\xc7\\xf0\\x97)}\\xc92\\x87$\\xa9\\x00^\\xcc\\xf4\\x89\\xb2l^Q\\xa4s\\x82kX\\xd4\\xfe\\x90\\x97Hb\\x9dC\\x17&dj\\x12\\x07W\\x07`\\xe2\\x04\\'\\xe9\\xb6\\x9c\\x1c\\xc2fF\\xfbM%\\x98\\xec\\x12\\x87\\xdd~\\xe6QM\\xe33V\\x07\\x1d\\xe5\\x88\\x12\\xecM\\xf9\\x8amWi\\x84x\\xe9\\xb8?\\xf5\\x8e\\x91\\x00\\x17\\x98\\xdc\\x8d\\xd4j/\\xbc\\xca~\\xd4\\x1fI\\xbf\\xa0\\xb7\\xd2\\x94\\x99\\x99|g\\xf3\\x8d\\x95o\\xd4\\xcb\\xd7\\x8b>\\xf31L\\xb8\\xe1\\xcb\\xea\\x0bl^gyp8\\x8aPb\\xac#\\xfa\\x90\\x9b\\x9a\\xb8@;K\\xc3\\xab\\x80\\xed\\xc4\\xb6\"\\xb2\\x9e!\\xc2\\xf6\\x94\\xad/\\x89a\\x95~\\x10\\xd4Y\\x93\\xa8\\xc2\\xa6\\x8b+PkG\\xa8\\xb12%4\\xeeT\\xc5\\xf7\\xa8\\xab~\\x11,\\xf4\\x8e\\xbd\\xb0\\xd6\\xb8\\x85:\\xe9\\xa5m\\xb9R\\xd96\\x93\\x08\\xb1\\x04\\xddK\\xe5\\xc4\\x1al\\x89k\\x03}%\\xb7X\\x19Q\\x00x\"\\x0b5\\xb3W\\x1f\\xf6\\x87\";Wj\\xc4z\\x17\\x18o2\\xc1\\xbe\\xd8\\xba\\xd4\\xfd\\xcc\\x8b\\xdfE\\xcb\\xaa\\xdab\\x81\\xff\\x00\\xd8\\x80Z\\xf8\\xfc\\x82W\\\\I\\x1d\\xadt\\x04\\xb1\\x13\\xc0\\xdb\\xfe\\xa5X\\x1eWo\\xcc\\xe6\\xc9\\xcc\\x0cY\\x81\\xf1\\xd9\\xe88f\\th\\xc6Z-\\x85\"\\n%\\xdeQS\\'\\x88\\xe0c\\x9e*5]!\\nbTN\\x87\\x1dM\\xfa;\\xa5\\x1fs\\t\\x13\\xff\\x00{\\x95>\\xdc&\\x95\\x1eB\\xbb\\xcf\\x99\\xc4\\x17\\xce|\\xcb\\xa0\\xba\\xed\\xa8\\xd2p:N\\x9f.\\x8b\\x8eF0\\xcb\\xe4\\xc0\\xfa\\x1ec\\xc9`\\xca\\xc1(52\\x8b\\x98*\\xee\\xc6\\x7fh\\xeam\\xdb\\xe7(\\x94\\xd3\\xd0W\\x0c\\xc1\\xb8\\xe2\\xa0v#\\x82\\xf8\\xe6\\x0e\\xdf\\xb2i\\x05\\xf9\\x84\\xbb\\xeb\\xf7\\x17$h\\xb3\\xd8\\x1ee%*\\xb0\\xa7\\xf9\\t\\xc6\\x88YO\\xa3\\x98=\\xa5\\x14\\x85\\xbfp@7\\x9b\\xbe\\xa5\\x9bwt\\xa9q\\xfb\\\\\\xcc\\x8a]\\xf1\\xccUiA\\xa8\\x1f!\\xde9d\\xdc\\xad]\\xd9\\xf2\\xfdK^\\xb5?q\\x90\\x05_\\xd6^\\x81Of9\\x9f\\xff\\xda\\x00\\x0c\\x03\\x00\\x00\\x01\\x11\\x02\\x11\\x00\\x00\\x10*\\xb2\\xef\\x9bR\\x89\\x03O<\\x88\\xa5\\x93\\xf3M\\xff\\x00\\xe4\\xf4|\\xd0\\xc7\\xbc\\xc2)s*\\x92\\xdd\\x87\\xc4>\\xe0IS\\xa4\\xbf\\xfe\\xe5bZ\\xc8i\\xb91\\x97\\xe0\\x7f\\xdfM\\x90|\\x8f\\xf1\\xf7f\\x7f\\x01L\\xa2\\xac\\x15\\xc7\\x86Pz\\xc30\\xf9\\x8f4\\xc3.\\x06\\x8d\\x7f\\xd7\\xdfd3)\\xd8CZ\\xa14\\x96>\\x8c\\x0fZ\\x9f\\x113e7\\x93\\xcf\\x0f\\xe5\\x0b\\xe8k\\x97jG\\xf5H\\xf1J\\xa4\\xe6\\xa8YVI\\xb5\\x82\\xc5\\x16\\x96\\xd08F\\x1c\\xa7Is[\\xff\\xc4\\x00 \\x11\\x01\\x01\\x01\\x01\\x01\\x01\\x00\\x02\\x03\\x01\\x01\\x00\\x00\\x00\\x00\\x00\\x01\\x00\\x11!1A\\x10 Qaq\\x810\\xff\\xda\\x00\\x08\\x01\\x02\\x11\\x01?\\x10\\x1b\\xdd\\xa1\\x04b\\xc2\\xc7\\xff\\x00\\x07V?\\r\\xb4\\xe1=\\xc3g\\xe4\\x92\\xb0\\xba\\\\\\xc8\\x8e?\\xbb\\x11\\x80\\x0f\\x85\\x81\\x8b\\x03\\x01<\\x97\\xa2\\xc0\\x8b\\x7f\\x1b\\xfa\\x1e\\x9f\\xea\\x1c\\xd8\\xbc\\xdbK\\xb0YT\\xbc\\xfcC\\xfa\\xcd\\x0c}\\x88\\x9cX<\\x8ej`\\xf9_$\\x08\\x90`\\xff\\x00m\\xbcX\\x95\\xf9\\x1e\\x87&,d\\xf1\\xec\\x8e\\xa6\\xb26M3\\'\\x88\\xd8\\x0f\\x90*k\\xe4^?\\x0b\\x03\\x82\\x0b\\xb0\\xbaX\\x04\\xfb\\x18\\xfaOE\\xd89\\x04\\x01\\x19\\x03\\x98GTB},\\x01\\xc6<\\xdc\\xa4\\xf4\"\\xeeB\\xc2\\x00\\x8f\\x02>\\x85\"[\\xba\\xc9\\xa3-\\xf6\\xf8\\x81!\\xfc\\x12(\\xee\\xcb\\xec\\t\\x87!\\xe8\\xff\\x00\\xf6\\xff\\x00Rq\\xebo\\xe8_RUv\\x07\\x83?\\xcc\\xbfb\\t\\xf6\\xe4_\\x83zd\\xd2\\x12|\\x88v?\\xf5\\x02\\xa9\\x00|\\x95\\x87\\xc9\\xba2U\\xbeZ\\x96H\\x82\\xf3\\x7f!1jt\\x84\\xcf\\xc4\\x02\\xa1|QD\\xfb\\x9f\\x8c\\t\"\\xd9>h\\xca\\x0c\\x18@\\xa5\\xe4f\\x1d[\\xa4\\x19W\\x19\\xff\\x00\\x91\\x03\\xb4\\x8bT\\xbd\\xeb\\xb3\\xec\\x7f\\rt\\xc2Z\\xf6\\x00\\xe1{\\x10A\"F\\xac\\x0b\\x0b\\x8c\"\\xf7\\xb98\\x0c\\xbb\\xbb\\x0e\\xfe\\xbdBI\\xbbz\\xad\\xfd\\x10\\xe1\\xbf\\xb3ao\\xff\\xc4\\x00!\\x11\\x01\\x01\\x01\\x00\\x03\\x00\\x03\\x00\\x02\\x03\\x00\\x00\\x00\\x00\\x00\\x00\\x01\\x00\\x11!1A\\x10 Q0aq\\x81\\x91\\xff\\xda\\x00\\x08\\x01\\x01\\x11\\x01?\\x10\\xfbi\\xfcg\\x80\\xd6\\xefq\\xfe.\\xd6\\xdd\\x93\\xff\\x00e\\xfb \\x1a}\\xdc\\xf5\\x13*\\xed\\x87\\xb3\\xad\\xb9\\x142\\xff\\x00\\x13\\xf5\\xd9\\xb8\\x0f\\xd8c\\x8c\\x8e\\x8b\\x99\\xc4\\xb6\\xe6\\x8d}\\x92\\xf3\\xe1Zy\\x02\\xdd\\x81\\x9c\\xc4\\xe947\\xa1rb\\xee.5\\xb8\\x19e\\x98*\\r\\x91\\x99\\xb8B\\x1br\\xcd\\x03l\\x9a\\xf6\\xc9:\\x89\\xbc\\xc8\\x18\\xeal\\xa1\\x93\\x88A\\xf6\\xb4x\\\\1=\\xc0\\xca@\\xb49\\xd6X\\x06V\\xf9\\x16q\\xc5\\x83r\\x1a\\xd4\\xb1\\xd8\\\\\\xedd^\\xd98`\\xce88\\x8b\\x10I6\\xf3my\\xed\\x11\\x9e2\\x0b#\\x8b\\x82\\x13\\x1e\\x04]:\\xbf\\xb67\\x91\\x86Jr\\x9f,\\xbe\\x16O=K\\xaea;\\x93\\xa2\\xf4e\\x04\\xff\\x00ILH\\xc2\\x9d\\xc2_\\xaf\\x88\\x01\\xfd$\\x16\\xd9\\xc6\\xef\\x1e\\xcf\\x08\\xef\\x98\\x1b\\xb0\\x1a\\x96\\x12\\xf7H\\x1d(\\xe0\\xdcB\\xe1\\xf3\\x89\\x02\\x9dvmn\\xe4\\x0b\\xd1.,{\\t\\xc4\\x1e$Afc\\x1dG\\x10}\\x16\\x10\\x8cpp9j\\xb5m\\xd8\\xb4H\\xd8\\xae\\x13\\xf2\\x89\\xeb\\x9b\\xc7\\x08\\x8d[\\xf6$\\x1c\\xc5\\x83\\xa1\\xf1\\x93%o\\xc2\\xd2\\xff\\xc4\\x00\\'\\x10\\x01\\x00\\x02\\x02\\x02\\x02\\x01\\x04\\x03\\x01\\x01\\x01\\x00\\x00\\x00\\x00\\x01\\x00\\x11!1AQaq\\x81\\x10\\x91\\xa1\\xd1 \\xb1\\xc1\\xf0\\xe1\\xf1\\xff\\xda\\x00\\x08\\x01\\x00\\x00\\x01?\\x10\\x1fE\\x08\\x0b\\x9d1K3\\xcel#>\\xa0\\xd6\\xfeU+\\xf9\\xec\\xfao\\x12\\xe4k*\\x19\\x81\\x84v\\xcb}Q\\xf7\\xd4\\xbd\\xa1\\x9e\\x82\\xe54\\xb5\\x83\\x0b+\\xf8?\\xcfI\\xb4\\xdf0\\x01)\\xd4Fo\\xeb^7\\xa2H\\x94YE8z\\x892\\x8d,>.X\\xcc\\x14 \\xbe\\xaa\\x11BE\\x83_&s\\xe2\\x15h\\xd6W\\xdc2\\x7fR\\x88eek\\xfc\\x15\\x1b\\x02\\x166\\xef\\xe6&\\xc6n\\xca\\x9bc\\xf9W\\xd4\\x18\\xa7\\xe9_T\\xd7\\x7f\\xb41\\xb9\\xc6\\x83\\x85\\xe6S,yl\\xb9\\xc1\\xe5\\x96\\xe0\\xbaK\\xae\\x07\\xb7q\\xf0\\x01V\\xb2\\xfcL\\xae\\xb5\\x08h\\xf8\\xc6\\xa5\\xab\\xac\\x93a\\xf1\\xfb\\x80\\xd7\\xf9\\x1aj\\xea\\xf8\\xf9\\x97\\xd8\\x0b\\x03Iy\\xb5\\x03\\x16\\xf7\\xfa\\x97`\\xd7#c\\xe4\\x8f\\xf2%\\xff\\x00\\n\\x954J\\x0e\\xff\\x00,/\\x8d\\xc1\\xfd>\\xc5\\xff\\x00\\xdf\\x070\\x02\\x88[\\x93\\xc7\\xf6\\x98pB\\xc0\\x89\\xe6\\x06\\x15\\xf3[\\x97\\x96\\xf1\\xb9\\xfd\\xb2M\\xa9\\xe7P\\xd1\\x9e\\x1f\\xf6T2`,\\x1d\\x7f\\xec\\xc3\\x01\\xbat\\\\vV\\xcc\\xaa\\x94\\x1c*}\\x0bB+\\xb9\\x97\\xf0?\\x824\\xd7mc\\x83\\xf74@U\\xd6~\\x0e\\xa6M\\x8a\\xdc\\xd9\\xc3\\xfd\\x8e\\xdf\\x99\\x97\\x94F\\xc6P7\\xd6\\xa5KX\\xd4\\x1f\\x98\\xb9i\\x9e\\x03\\x0f\\x9cq9\\x15`; \\xa4\\x97T\\x11 w3S70u\\x07\\xf0>\\xa1l\\xb7\\x84\\x87t6\\xff\\x00D\\xa2\\xb9`0-\\x95\\xef\\x99\\x98\\xe3\\x18!*\\xcc\\xce\\x81\\x12]\\x92\\xb12Z\\xba)\\x88\\\\D\\x16]\\xcc\\xe8\\x85\\xb7\\x06AeW1\\x1bk\\xb3\\xc9\\xc4t\\x0c\\x8eb\\xab\\x13\\\\\\x9f\\x89\\xfej\\x9a\\xf6{\\x81\\xe7\\x1e\\xbe\\x95*\\x1f@\\xf0\\xfd\\xa5\\x8eK\\xe6\\xa1\\n4k\\x8a\\xce1\\xe8\\x82y\\x938(P\\x1e\\xd6W\\x83e\\rb\\x1a\\x96\\xd5\\xcc0\\xcd\\xdbP\\xb0d\\xcd\\xbcEq\\xe1\\x1d?0\\xaa\\x16\\x8b\\xb42\\x9a\\x0c\\x7fs\\x10\\xe7\\x1e\\xa2l\\xd4#.\\x936\\xf12\\xf8a\\xe0\\xb9\\xfa\\x02/\\x82\\xf4M\\x08{\\x9e\\t\\x82\\xb8|\\x11yc\\x96b\\x06\\xb4w\\x1a\\x95\\xf9g\\x05g\\x14~ \\x8b\\xb5Ku\\xdfG\\x98A\\xeb3\\x10j\\x93\\x0ce\\xe4j\\xeb\\x1a\\x08\\x1b\\xc5\\r\\xd3\\xcb\\xc4w\\x14\\xc2\\x97\\xa6\\xbb\\x1etLY\\x0b\\x0cH\\xb0\\xae_\\x18/q\\x86\\x97k\\xc5\\xf9\\xae\\xe2Cpm\\x8b\\xfbl\\x9b\\x95\\xc2.\\xad\\xa8_\\x01u\\xfcR\\xcb\\x95O\\xb1\\x86\\xabv\\xa7\\xbdL\\x84\\x9e\\x7f\\x9e\\x90F\\x13\\xb9^\\xad\\xab\\xe1\\x82\\xe2\\xf7\\x1bg\\xee\\x9e\\x83\\x87\\xd1\\x95\\x19\\x05r\\xc6\\x14\\xcf\\x9cD\\xbc,\\xcd\\x0f.\\'\\x1aWXM=\\xa9\\xf6\\x97N+\\xe26\\xcb\\xdb\\xadJdRS\\x95.\\x1b\\x9b\\'\\x1a\\xa8\\xc8\\x17\\xb5\\x82\\xbe\\xee\\x07\\xb0\\xb6\\x81D\\xd2#\\x176\\xf0\\xa2\\xba\\xa8\\xa6\\xb0\\x12Y\\xd35\\xdb\\\\\\x16\\xd4\\xb5\\xb8\\x02\\xa8\\x9bt\\n\\xf2\\xc1Cb\\x84\\x0ew\\x91\\x80 ty\\x1d2\\xd5So\\x11\\x07\\x85\\n74\\xdf\\xdc\\xbb#+j\\x88\\x0bO\\xef,\\x97\\x0f9\\x97\\xd93\\x1d\\xaa\\x81\\xccHiL\"\\x1d\\xc3\\x15\\x0c\\xd4\\x16=v\\xcb\\xb1J\\x17\\x80\\x03\\xf8`\\x11\\x95\\xf6t\\xa3\\xcc\\xb5a\\xab\\xe1\\xfdL#\\xe5\\x8b\\x81.%S\\x87]C\\xafG\\x071\\x01^4\\x08\\xe5&\\x9c\\xda\\xe6\\x0c>\\xd3\\xb4{\\x8f\\xdb\\x0c\\xa8\\'\\xacT\\x14V\\xbb\\x8a?\\xec\\xca\\xf3e\\xb6+\\xcc\\x06`\\x0bw\\x89~\\xb4\\xc5\\xc5H]\\xe6p\\x10\\xf2\\x8a\\x94\\xbd\\x0c\\xdb\\x176\\\\\\xc2\\r\\xd2\\xf8\\x8dl\\x85\\xf9@\\x06\\x9c!\\x8an\\xa5\\x8eR\\xc08\\xaa_\\xe6 \\r6\\xe4\\x94\\xe3-?\\x99h\\x89LT4\\xcd\\xb2\\xfe.Cd\\xf5\\x1e\\x1aQ\\x0b^N\"\\xa7\\x13\\x86b\\xb9\\'B\\xf2C\\xca\\xab\\x86bvxy\\x9c\\x00\\x05\\xaa\\xa2\\xaaP\\x85\\xe7\\x83\\xff\\x00bZ]E\\x88\\x08\\xb2\\x03\\xe6R\\xdb\\x1e\\xd9\\xa5\\xbf\\x89\\xaf\\x0f\\x88\\xaaC\\x85j\\xb3p\\xaf\\x89\\x14*\\xc1cXF\\xbb\\xea\\tk\\xc2\\xec\\xd9\\x0e\\xf5\\xde6=x\\x9b\\x93\\x98I\\x90\\x17G3A\\xe8Z3\\xb7\\xb6\\x18\\x06\\x939\\x99V8\\xac\\xf0\\xf6K&Q-\\x89\\xee H@]U\\xeed5!\\xac \\xa0ekl\\x83\\xa3\\xaa\\xf5p\\x03\\x12}\\xb10\\xd5y\\xdc-\\x8f5\\x8a\\x8e\\x12\\xde\\xa1\\x84\\xdc\\xd5\\xc3+h\\xfb\\xb1BJsSX\\xee\\x06\\x15\\x95Q\\xba{\\x87\\x19+\\x00\\x1e\\x07\\x10\\x87\\\\\\x15K\\xb1\\xb68\\x9b\\x9d\\xa0\\xdeNu,B\\xb7\\x06\\xa6\\xecq\\x18bS{\\xbc\\xae<\\xc1\\xb7\\xc6\\x94z\\xcd\\xea:\\x8b\\x19\\x83\\xa7\\x03\\xf6\\xdcj\\x99,\\x04/Y\\xd7q\\xee`\\xc1\\xa9\\x0f\\xa3P \\xa6\\x0ek;\\x8e\\xcd\\xb0\\x899Z\\xb5\\t\\xcaf\\xc9\\xf1\\tg\\xcc\\'&&\\x12\\x02\\x19\\x1e@c(y\\x83\\x88\\xc1Y\\x8d\\xb3\\x1cKC\\xf5\\x96\\xa7\\x03\\x99\\xc1\\x8b\\xaf\\x13\\x83\\x94\\xdc?\\xb2\\xcdy\\x18\\xe5\\xdb\\xb5\\xd4-~N\\xe3@Z\\xa0\\'Q\\x0e\\x80\\x87:\\x14\\xd0\\x0eM@X\\xac\\xb1.\\xf9\\x0b\\x9e\\xee\\xa2z\\xad\\x89S\\x02%\\xef\\x98\\xdd\\x8a\\xe3B_\\x06\\xd9j\\xae\\\\\\x17\\x8e\\xa0\\xa6\\xb3\\xb2\\xd2\\xf0FT-\\xa8\\xd4\\xa5U\\x92\\xf2{\\x83\\xe3\\xee\\x83!\\xf8\\x10$O\\x99p\\x16t1{?\\xcc\\xad\\xb5#e\\xc2\\xb5+\\xc9\\xf2L\\xd9W\\xdc\\x10\\xc6\\x85`\\xdc\\xb9U<\\xc1\\xbb\\xb9gg\\xa2\\xcd\\x13\\x8b\\xc2\\x0f\\xdc\\xa0\\xd2\\xf9\\x94:\\x1b\\x94.\\xb5\\x05E\\xa9\\x91\\xc4 D\\x14\\x15\\x1e(\\xd1\\x00\\x07E\\x16\\x02\\xfd\\x18\\x8b\\x92-%\\x03\\xd4\\xc8\\xf8h6\\xb2\\x9cvEk\\x8fDM\\x165\\xaa\\x96\\xe1b\\xae\\xd6\\x13\\x9f\\xe0*\\x15\\xc2\\x02\\xf0\\x8bKX\\xb2>\\xe0b*\\xb9EAl\\xef\\xe5\\x7f\\x90\\xa8Y~\\xc8r|0\\xdd\\xfcq.\\xc6N\\x07S2#W\\x86a5\\x88\\x1c\\xccj\\x1b|Q\\xca\\xb5\\xa4\\xff\\x00q\\x9d\\xbb\\xfb\\x01\\xb7\\xef\\xfd@\\xaai\\xb8\\xdd\\xdd%\\x01\\xb5\\xcaS\\xb4\\xc1v\\xae\\xea\\x05\\xa1\\xb8X \\xf2\\x90\\xd0\\xaa\\xf1\\n\\x10\\xacE\\x84\\x19\\x0f\\xa8\\x91q,U7<=L\\xd1\\x1d\\xcc\\x0fk\\xf5\\xba\\x08\\x8c\\xa3\\\\\\xf3\\x11\\xc5\\xb3\\x17\\x01\\x9cC\\x04\\x01\\x1f\\x98y#\\x0f\\x05R\\xf3+\\x88\\xb0^:\\x99\\xf1P}^%\\xb9\\x875\\xcd~\\xe1*\\x08\\x16\\xe6\\\\\\xc5\\x9aq\\x94\\x9b\\xa1\\tTM\\xd7P\\x0f\\xbc\\x15)\\xf6\\xf3\\xd4V6^%myh\\x87\\xcc\\xba\\xca\\xca\\x90:\\xc4\\xbf\\x1c\\x85\\x8c\\xa1\\xa0\\\\\\xc8\\xab<\\xc0!\\xae \\xf2\\x9f\\xd2?\\xc8\\xa6\\x0c\\xe3\\xb9\\x88\\xb0\\x1cTN\\x86\\xfa\\xd4\\x1dTm\\x1d\\xca\\xc3\\x0b\\xbd\\x89\\x9a%\\xc0`@}\\xa7r\\xed.\\xba\\xfa\\x84\\xe9]A\\x96q\\xf6\\x88\\x80\\xaa|J\\x04rf\\\\e\\xf3\\x83\\xecA\\x80\\x9b9o+A\\xbaaf\\xee\\x0f\\xd3\\xb1\\x07Rm\\xce`lw\\x0f\\xf3D;\\\\8\\x96\\x07;\\xc1\\xa7,@\\x82\\xb7\\x97\\xb9\\x80\\x9c\\xcak\\x17\\n\\xb5g\\xa2{\\x88L\\xee)\\x8f\\xbc\\xc8J\\xb8\\xb6\\x06\\xf7\\x969\\x94>\\xd8\\x10\\n\\x1eH\\xb4]3\\x11\\xb1A\\x98\\x80[\\x00\\xb3s@\\x00\\xb8b\\x9c\\xd9z#\\xcc\\xe8F\\xfcD\\x0bB\\xe2\\xe5\\x05\\xc6Q5\\x17\\x84\\xa4\\xea\\xd7\\xbdK\\n\\xd1\\xb4@\\x11\\xa6!\\n\\xc8h\\xe8\\x00\\x0eW\\xab\\xd1\\xdb\\xa85(8tu\\x05$\\xa7\\xf4@\\xae\\x81G\\xe2\\xe8@\\x19,\\xb6\\x1b\\t\\x8a\\xd0\\xf5-\\x12\\xf9\\x03\\x07\\xa9pl\\xd8wR\\x9a\\xf2\\xf5\\x18\\xda\\x0f1\\x956\\xb9\\xb9\\xbfCS\\x05\\x89\\x02\\xf8\\tD>\\tfo/1l)\\x9fb0r\\xb400\\x83P\\xd0Jd]T\\xc3\\x88\\x03\\xb5\\x8b\\x88\\xa4\\xe1\\xdekmx\\x94\\xe3a\\x03 }\\x86q(\\x0f\\x1c\\xc6\\x15Ljng1\\x19\\xf5*[\\xc8\\xcb\\x03\\x83[M\\x1f\\x89Zw#\\x90K@8X\\xcbb\\xa6)\\x8b\\xb8\\x0e/\\xb4>\\xae\\xfe\\x88\\xc5\\x1fJ\\xa8Gb\\xb1\\xa8\\xc8\\xc6\\x8be}L\\x93\\xbe_\\xb1\\xd7\\xe4\\xc7\\xdb\\xfb\\xf2\\r\\x98(\\x0c\\x06\\x1b\\xae\\x1f\\x8dK\\n\\x86Go\\xf8\\x1fr\\x88`\\x1d\\xa3\\x88\\xc7\\x92X\\xbc\\xc5T\\xb6 \\'QW\\xcc\\x92\\x89\\xa0\\xe3\\xfd\\x96\\xd4\\x95Z\\xb5\\x10J\\x99X<\\xb1\\x96\\xf34]\\x8f\\xeaYC\\xc5\\xe9\\xf4\\xcbD%@\\xda]\\x92UL\\xbf\\xff\\x00S\\xaaLM,[\\xf3\\xef\\xf5\\xfb\\xc7/.\\x1bk\\xeds6eM\\xed\\x84\\x04\\xbd5\\xfb\\x80V\\x90f\\x9c\\xe3\\x82;\\xcd9+\\xf3\\x04\\x94\\xa5Kx\\xae\\xd3\\xf2C\\x02+U\\x89\\xee8\\x94\\xe28X\\xde\\xe5B\\xd2\\xe5\\xc2\\r\\x96\\xea&\\x04]\\xa7\\xf9\\x06ZTv\\xcc\\x18\\xba\\xae\\x15}\\x04WH(\\xae{\\x96\\xe0\\x1b\\xc8J\\xe5\\xc66K\\xd6\\xc6\\xe8\\\\:\\x81\\x05\\xd1O\\xc4E\\x04G\"RN\\x89\\x902\\x96\\xe5\\'4j\\xd4\\xbfp\\xc1\\t\\xd5\\x075\\xdcAY\\xdf-\\xe7\\xe6-\\x15\\xca\\xfb\\x7f\\xdf\\xa9wf\\xf1\\xa0\\xb9\\xb5(\\xcb\\xc9\\x97{\\xd7+\\xd7\\xfe\\xe2I p\\x1b\\xa7\\xabS\\xbd|\\xc1[\\xf5\\xc9\\x1e\\xd2\\x82\\xfcE\\xce)\\x89^h\\xa0Vtdb+\\x81:\\x8ex\\x7f\\xb1.\\x01\\x84\\xb7\\xe1_\\xdcL@\\xda\\x04\\xaf;\\x97\\xc8\\x8bm\\x9f\\xbac\\xde\\xc3d\\xfa\\xe2\\x1dr\\x1a;;\\x86\\x16\\xb3\\x90\\xe5\\xfdK* \\xad\\r\\xcc\\xc3\\xc5\\xcbR\\xb6\\xb45gih:]\\xb57\\x83\\xa5\\x19>wr\\xa43*p\\xf4\\xf3\\x17\\xd0\\x0eB\\x92\\nT\\xff\\xd9'"
      ]
     },
     "execution_count": 4,
     "metadata": {},
     "output_type": "execute_result"
    }
   ],
   "source": [
    "r.content"
   ]
  },
  {
   "cell_type": "code",
   "execution_count": 5,
   "metadata": {},
   "outputs": [
    {
     "data": {
      "text/plain": [
       "200"
      ]
     },
     "execution_count": 5,
     "metadata": {},
     "output_type": "execute_result"
    }
   ],
   "source": [
    "r.status_code"
   ]
  },
  {
   "cell_type": "code",
   "execution_count": 6,
   "metadata": {},
   "outputs": [],
   "source": [
    "with open(\"mark.jpg\", 'wb') as f:\n",
    "    f.write(r.content)"
   ]
  },
  {
   "cell_type": "markdown",
   "metadata": {},
   "source": [
    "### Example 2\n",
    "\n",
    "[Google maps geocoding API](https://developers.google.com/maps/documentation/geocoding/intro)"
   ]
  },
  {
   "cell_type": "code",
   "execution_count": 12,
   "metadata": {},
   "outputs": [],
   "source": [
    "key = \"AIzaSyBG1or9IV1cQrAUx7GZrUD6xvASD6mSJy\""
   ]
  },
  {
   "cell_type": "code",
   "execution_count": 13,
   "metadata": {},
   "outputs": [],
   "source": [
    "url = \"https://maps.googleapis.com/maps/api/geocode/json\""
   ]
  },
  {
   "cell_type": "code",
   "execution_count": 14,
   "metadata": {},
   "outputs": [],
   "source": [
    "params = {\n",
    "    \"address\": \"coding blocks, pitampura\",\n",
    "    \"key\": key\n",
    "}"
   ]
  },
  {
   "cell_type": "code",
   "execution_count": 15,
   "metadata": {},
   "outputs": [],
   "source": [
    "r = requests.get(url, params=params)"
   ]
  },
  {
   "cell_type": "code",
   "execution_count": null,
   "metadata": {},
   "outputs": [],
   "source": [
    "r.url"
   ]
  },
  {
   "cell_type": "code",
   "execution_count": 18,
   "metadata": {},
   "outputs": [
    {
     "data": {
      "text/plain": [
       "200"
      ]
     },
     "execution_count": 18,
     "metadata": {},
     "output_type": "execute_result"
    }
   ],
   "source": [
    "r.status_code"
   ]
  },
  {
   "cell_type": "code",
   "execution_count": 17,
   "metadata": {},
   "outputs": [
    {
     "data": {
      "text/plain": [
       "b'{\\n   \"results\" : [\\n      {\\n         \"address_components\" : [\\n            {\\n               \"long_name\" : \"New Delhi\",\\n               \"short_name\" : \"New Delhi\",\\n               \"types\" : [ \"locality\", \"political\" ]\\n            },\\n            {\\n               \"long_name\" : \"Delhi\",\\n               \"short_name\" : \"DL\",\\n               \"types\" : [ \"administrative_area_level_1\", \"political\" ]\\n            },\\n            {\\n               \"long_name\" : \"India\",\\n               \"short_name\" : \"IN\",\\n               \"types\" : [ \"country\", \"political\" ]\\n            },\\n            {\\n               \"long_name\" : \"110034\",\\n               \"short_name\" : \"110034\",\\n               \"types\" : [ \"postal_code\" ]\\n            }\\n         ],\\n         \"formatted_address\" : \"47, Nishant Kunj, 1st & 2nd Floor, Pitampura Main Road, Opposite Metro Pillar 337, Pitampura, New Delhi, Delhi 110034, India\",\\n         \"geometry\" : {\\n            \"location\" : {\\n               \"lat\" : 28.6969421,\\n               \"lng\" : 77.14238250000001\\n            },\\n            \"location_type\" : \"GEOMETRIC_CENTER\",\\n            \"viewport\" : {\\n               \"northeast\" : {\\n                  \"lat\" : 28.6982910802915,\\n                  \"lng\" : 77.14373148029152\\n               },\\n               \"southwest\" : {\\n                  \"lat\" : 28.6955931197085,\\n                  \"lng\" : 77.14103351970851\\n               }\\n            }\\n         },\\n         \"place_id\" : \"ChIJ_ZBg-dEDDTkRCYK3Ee8ywoI\",\\n         \"plus_code\" : {\\n            \"compound_code\" : \"M4WR+QX Delhi, India\",\\n            \"global_code\" : \"7JWVM4WR+QX\"\\n         },\\n         \"types\" : [ \"establishment\", \"point_of_interest\" ]\\n      }\\n   ],\\n   \"status\" : \"OK\"\\n}\\n'"
      ]
     },
     "execution_count": 17,
     "metadata": {},
     "output_type": "execute_result"
    }
   ],
   "source": [
    "r.content"
   ]
  },
  {
   "cell_type": "code",
   "execution_count": 19,
   "metadata": {},
   "outputs": [],
   "source": [
    "data = r.json()"
   ]
  },
  {
   "cell_type": "code",
   "execution_count": 25,
   "metadata": {},
   "outputs": [
    {
     "data": {
      "text/plain": [
       "dict_keys(['address_components', 'formatted_address', 'geometry', 'place_id', 'plus_code', 'types'])"
      ]
     },
     "execution_count": 25,
     "metadata": {},
     "output_type": "execute_result"
    }
   ],
   "source": [
    "data['results'][0].keys()"
   ]
  },
  {
   "cell_type": "code",
   "execution_count": 29,
   "metadata": {},
   "outputs": [
    {
     "data": {
      "text/plain": [
       "'47, Nishant Kunj, 1st & 2nd Floor, Pitampura Main Road, Opposite Metro Pillar 337, Pitampura, New Delhi, Delhi 110034, India'"
      ]
     },
     "execution_count": 29,
     "metadata": {},
     "output_type": "execute_result"
    }
   ],
   "source": [
    "data['results'][0]['formatted_address']"
   ]
  },
  {
   "cell_type": "code",
   "execution_count": 31,
   "metadata": {},
   "outputs": [
    {
     "data": {
      "text/plain": [
       "{'lat': 28.6969421, 'lng': 77.14238250000001}"
      ]
     },
     "execution_count": 31,
     "metadata": {},
     "output_type": "execute_result"
    }
   ],
   "source": [
    "data['results'][0]['geometry']['location']"
   ]
  },
  {
   "cell_type": "code",
   "execution_count": 27,
   "metadata": {},
   "outputs": [
    {
     "data": {
      "text/plain": [
       "{'address_components': [{'long_name': 'New Delhi',\n",
       "   'short_name': 'New Delhi',\n",
       "   'types': ['locality', 'political']},\n",
       "  {'long_name': 'Delhi',\n",
       "   'short_name': 'DL',\n",
       "   'types': ['administrative_area_level_1', 'political']},\n",
       "  {'long_name': 'India',\n",
       "   'short_name': 'IN',\n",
       "   'types': ['country', 'political']},\n",
       "  {'long_name': '110034', 'short_name': '110034', 'types': ['postal_code']}],\n",
       " 'formatted_address': '47, Nishant Kunj, 1st & 2nd Floor, Pitampura Main Road, Opposite Metro Pillar 337, Pitampura, New Delhi, Delhi 110034, India',\n",
       " 'geometry': {'location': {'lat': 28.6969421, 'lng': 77.14238250000001},\n",
       "  'location_type': 'GEOMETRIC_CENTER',\n",
       "  'viewport': {'northeast': {'lat': 28.6982910802915,\n",
       "    'lng': 77.14373148029152},\n",
       "   'southwest': {'lat': 28.6955931197085, 'lng': 77.14103351970851}}},\n",
       " 'place_id': 'ChIJ_ZBg-dEDDTkRCYK3Ee8ywoI',\n",
       " 'plus_code': {'compound_code': 'M4WR+QX Delhi, India',\n",
       "  'global_code': '7JWVM4WR+QX'},\n",
       " 'types': ['establishment', 'point_of_interest']}"
      ]
     },
     "execution_count": 27,
     "metadata": {},
     "output_type": "execute_result"
    }
   ],
   "source": [
    "data['results'][0]"
   ]
  },
  {
   "cell_type": "code",
   "execution_count": 33,
   "metadata": {},
   "outputs": [],
   "source": [
    "from pprint import pprint"
   ]
  },
  {
   "cell_type": "code",
   "execution_count": 34,
   "metadata": {},
   "outputs": [
    {
     "name": "stdout",
     "output_type": "stream",
     "text": [
      "{'results': [{'address_components': [{'long_name': 'New Delhi',\n",
      "                                      'short_name': 'New Delhi',\n",
      "                                      'types': ['locality', 'political']},\n",
      "                                     {'long_name': 'Delhi',\n",
      "                                      'short_name': 'DL',\n",
      "                                      'types': ['administrative_area_level_1',\n",
      "                                                'political']},\n",
      "                                     {'long_name': 'India',\n",
      "                                      'short_name': 'IN',\n",
      "                                      'types': ['country', 'political']},\n",
      "                                     {'long_name': '110034',\n",
      "                                      'short_name': '110034',\n",
      "                                      'types': ['postal_code']}],\n",
      "              'formatted_address': '47, Nishant Kunj, 1st & 2nd Floor, '\n",
      "                                   'Pitampura Main Road, Opposite Metro Pillar '\n",
      "                                   '337, Pitampura, New Delhi, Delhi 110034, '\n",
      "                                   'India',\n",
      "              'geometry': {'location': {'lat': 28.6969421,\n",
      "                                        'lng': 77.14238250000001},\n",
      "                           'location_type': 'GEOMETRIC_CENTER',\n",
      "                           'viewport': {'northeast': {'lat': 28.6982910802915,\n",
      "                                                      'lng': 77.14373148029152},\n",
      "                                        'southwest': {'lat': 28.6955931197085,\n",
      "                                                      'lng': 77.14103351970851}}},\n",
      "              'place_id': 'ChIJ_ZBg-dEDDTkRCYK3Ee8ywoI',\n",
      "              'plus_code': {'compound_code': 'M4WR+QX Delhi, India',\n",
      "                            'global_code': '7JWVM4WR+QX'},\n",
      "              'types': ['establishment', 'point_of_interest']}],\n",
      " 'status': 'OK'}\n"
     ]
    }
   ],
   "source": [
    "pprint(data)"
   ]
  },
  {
   "cell_type": "code",
   "execution_count": null,
   "metadata": {},
   "outputs": [],
   "source": []
  },
  {
   "cell_type": "code",
   "execution_count": null,
   "metadata": {},
   "outputs": [],
   "source": []
  },
  {
   "cell_type": "code",
   "execution_count": 36,
   "metadata": {},
   "outputs": [],
   "source": [
    "url = \"https://httpbin.org/ip\""
   ]
  },
  {
   "cell_type": "code",
   "execution_count": 37,
   "metadata": {},
   "outputs": [],
   "source": [
    "r = requests.get(url)"
   ]
  },
  {
   "cell_type": "code",
   "execution_count": 38,
   "metadata": {},
   "outputs": [
    {
     "data": {
      "text/plain": [
       "b'{\\n  \"origin\": \"112.196.171.229\"\\n}\\n'"
      ]
     },
     "execution_count": 38,
     "metadata": {},
     "output_type": "execute_result"
    }
   ],
   "source": [
    "r.content"
   ]
  },
  {
   "cell_type": "code",
   "execution_count": 39,
   "metadata": {},
   "outputs": [
    {
     "data": {
      "text/plain": [
       "'112.196.171.229'"
      ]
     },
     "execution_count": 39,
     "metadata": {},
     "output_type": "execute_result"
    }
   ],
   "source": [
    "r.json()['origin']"
   ]
  },
  {
   "cell_type": "code",
   "execution_count": 40,
   "metadata": {},
   "outputs": [
    {
     "data": {
      "text/plain": [
       "{'Connection': 'keep-alive', 'Server': 'gunicorn/19.9.0', 'Date': 'Wed, 02 Jan 2019 13:08:51 GMT', 'Content-Type': 'application/json', 'Content-Length': '34', 'Access-Control-Allow-Origin': '*', 'Access-Control-Allow-Credentials': 'true', 'Via': '1.1 vegur'}"
      ]
     },
     "execution_count": 40,
     "metadata": {},
     "output_type": "execute_result"
    }
   ],
   "source": [
    "r.headers"
   ]
  },
  {
   "cell_type": "code",
   "execution_count": 41,
   "metadata": {
    "scrolled": true
   },
   "outputs": [
    {
     "data": {
      "text/plain": [
       "{'User-Agent': 'python-requests/2.21.0', 'Accept-Encoding': 'gzip, deflate', 'Accept': '*/*', 'Connection': 'keep-alive'}"
      ]
     },
     "execution_count": 41,
     "metadata": {},
     "output_type": "execute_result"
    }
   ],
   "source": [
    "r.request.headers"
   ]
  },
  {
   "cell_type": "code",
   "execution_count": null,
   "metadata": {},
   "outputs": [],
   "source": []
  },
  {
   "cell_type": "code",
   "execution_count": 75,
   "metadata": {},
   "outputs": [],
   "source": [
    "proxies = {\n",
    "    \"https\": \"179.127.241.133:49187\"\n",
    "}"
   ]
  },
  {
   "cell_type": "code",
   "execution_count": 76,
   "metadata": {},
   "outputs": [],
   "source": [
    "url = \"https://httpbin.org/ip\""
   ]
  },
  {
   "cell_type": "code",
   "execution_count": 77,
   "metadata": {},
   "outputs": [],
   "source": [
    "r = requests.get(url, proxies=proxies)"
   ]
  },
  {
   "cell_type": "code",
   "execution_count": 78,
   "metadata": {},
   "outputs": [
    {
     "data": {
      "text/plain": [
       "{'origin': '179.127.240.254'}"
      ]
     },
     "execution_count": 78,
     "metadata": {},
     "output_type": "execute_result"
    }
   ],
   "source": [
    "r.json()"
   ]
  },
  {
   "cell_type": "markdown",
   "metadata": {},
   "source": [
    "## POST request\n",
    "\n",
    "![](https://indianpythonista.files.wordpress.com/2016/12/iservice_post_get.png?w=809)"
   ]
  },
  {
   "cell_type": "markdown",
   "metadata": {},
   "source": [
    "### Example 1\n",
    "\n",
    "[Pastebin API](https://pastebin.com/api)"
   ]
  },
  {
   "cell_type": "code",
   "execution_count": 18,
   "metadata": {},
   "outputs": [],
   "source": [
    "image_upload_url = \"https://api.imgur.com/3/image\""
   ]
  },
  {
   "cell_type": "code",
   "execution_count": 19,
   "metadata": {},
   "outputs": [],
   "source": [
    "new_album_url = \"https://api.imgur.com/3/album\""
   ]
  },
  {
   "cell_type": "code",
   "execution_count": 20,
   "metadata": {},
   "outputs": [],
   "source": [
    "headers = {\n",
    "    \"Authorization\": \"Client-ID 8bd0be01cb87666\"\n",
    "}"
   ]
  },
  {
   "cell_type": "code",
   "execution_count": 5,
   "metadata": {},
   "outputs": [],
   "source": [
    "data = {\n",
    "    'title': 'My album'\n",
    "}"
   ]
  },
  {
   "cell_type": "code",
   "execution_count": 9,
   "metadata": {},
   "outputs": [],
   "source": [
    "r = requests.post(url, data=data, headers=headers)"
   ]
  },
  {
   "cell_type": "code",
   "execution_count": 10,
   "metadata": {},
   "outputs": [
    {
     "data": {
      "text/plain": [
       "b'{\"data\":{\"id\":\"FkGY4fT\",\"deletehash\":\"jpMwxaoqVT4DU9g\"},\"success\":true,\"status\":200}'"
      ]
     },
     "execution_count": 10,
     "metadata": {},
     "output_type": "execute_result"
    }
   ],
   "source": [
    "r.content"
   ]
  },
  {
   "cell_type": "code",
   "execution_count": 33,
   "metadata": {},
   "outputs": [],
   "source": [
    "album_id = \"jpMwxaoqVT4DU9g\""
   ]
  },
  {
   "cell_type": "code",
   "execution_count": 12,
   "metadata": {},
   "outputs": [
    {
     "data": {
      "text/plain": [
       "'FkGY4fT'"
      ]
     },
     "execution_count": 12,
     "metadata": {},
     "output_type": "execute_result"
    }
   ],
   "source": [
    "album_id"
   ]
  },
  {
   "cell_type": "code",
   "execution_count": 13,
   "metadata": {},
   "outputs": [],
   "source": [
    "import os"
   ]
  },
  {
   "cell_type": "code",
   "execution_count": 14,
   "metadata": {},
   "outputs": [
    {
     "data": {
      "text/plain": [
       "'/home/nikhil/Desktop/PythonForWeb'"
      ]
     },
     "execution_count": 14,
     "metadata": {},
     "output_type": "execute_result"
    }
   ],
   "source": [
    "os.getcwd()"
   ]
  },
  {
   "cell_type": "code",
   "execution_count": 15,
   "metadata": {},
   "outputs": [
    {
     "data": {
      "text/plain": [
       "['.git',\n",
       " 'PyWeb.ipynb',\n",
       " 'solution.cpp',\n",
       " '.ipynb_checkpoints',\n",
       " '.gitignore',\n",
       " 'mark.jpg',\n",
       " 'BasicsOfPython.ipynb']"
      ]
     },
     "execution_count": 15,
     "metadata": {},
     "output_type": "execute_result"
    }
   ],
   "source": [
    "os.listdir()"
   ]
  },
  {
   "cell_type": "code",
   "execution_count": 16,
   "metadata": {},
   "outputs": [],
   "source": [
    "os.chdir('/home/nikhil/Pictures/python/')"
   ]
  },
  {
   "cell_type": "code",
   "execution_count": 21,
   "metadata": {},
   "outputs": [],
   "source": [
    "image_paths = os.listdir()"
   ]
  },
  {
   "cell_type": "code",
   "execution_count": 24,
   "metadata": {},
   "outputs": [],
   "source": [
    "image_ids = []"
   ]
  },
  {
   "cell_type": "code",
   "execution_count": 40,
   "metadata": {},
   "outputs": [
    {
     "name": "stdout",
     "output_type": "stream",
     "text": [
      "{'data': {'id': 'L7IvsoX', 'title': None, 'description': None, 'datetime': 1546596701, 'type': 'image/png', 'animated': False, 'width': 1000, 'height': 1000, 'size': 246622, 'views': 0, 'bandwidth': 0, 'vote': None, 'favorite': False, 'nsfw': None, 'section': None, 'account_url': None, 'account_id': 0, 'is_ad': False, 'in_most_viral': False, 'has_sound': False, 'tags': [], 'ad_type': 0, 'ad_url': '', 'in_gallery': False, 'deletehash': 'sZsRGK2j4OLQ8X4', 'name': '', 'link': 'https://i.imgur.com/L7IvsoX.png'}, 'success': True, 'status': 200}\n"
     ]
    }
   ],
   "source": [
    "for image_path in image_paths[:1]:\n",
    "    with open(image_path, 'rb') as f:\n",
    "        image = f.read()\n",
    "    data = {\n",
    "        'image': image\n",
    "    }\n",
    "    r = requests.post(image_upload_url, headers=headers, data=data)\n",
    "    image_ids.append(r.json()['data']['id'])\n",
    "    print(r.json())"
   ]
  },
  {
   "cell_type": "code",
   "execution_count": 26,
   "metadata": {},
   "outputs": [
    {
     "data": {
      "text/plain": [
       "['VYgV1sU',\n",
       " '1cSNagE',\n",
       " 'ODxNwZD',\n",
       " 'JA2UaHX',\n",
       " 'fQIND6u',\n",
       " 'fzZwhvX',\n",
       " 'y819mPV',\n",
       " 'R4sxWE1',\n",
       " 'Qo1n0nK',\n",
       " 'L6kCCDJ',\n",
       " 's2YSNAm',\n",
       " 'xzmellF',\n",
       " 'W9NeDcD']"
      ]
     },
     "execution_count": 26,
     "metadata": {},
     "output_type": "execute_result"
    }
   ],
   "source": [
    "image_ids"
   ]
  },
  {
   "cell_type": "code",
   "execution_count": 34,
   "metadata": {},
   "outputs": [],
   "source": [
    "album_update_url = \"https://api.imgur.com/3/album/{}/add\".format(album_id)"
   ]
  },
  {
   "cell_type": "code",
   "execution_count": 35,
   "metadata": {},
   "outputs": [
    {
     "data": {
      "text/plain": [
       "'https://api.imgur.com/3/album/jpMwxaoqVT4DU9g/add'"
      ]
     },
     "execution_count": 35,
     "metadata": {},
     "output_type": "execute_result"
    }
   ],
   "source": [
    "album_update_url"
   ]
  },
  {
   "cell_type": "code",
   "execution_count": 36,
   "metadata": {},
   "outputs": [],
   "source": [
    "data = {\n",
    "    'ids': image_ids\n",
    "}"
   ]
  },
  {
   "cell_type": "code",
   "execution_count": 37,
   "metadata": {},
   "outputs": [],
   "source": [
    "r = requests.post(album_update_url, data=data, headers=headers)"
   ]
  },
  {
   "cell_type": "code",
   "execution_count": 38,
   "metadata": {},
   "outputs": [
    {
     "data": {
      "text/plain": [
       "{'data': {'error': 'You must own all the image ids to add them to album FkGY4fT',\n",
       "  'request': '/3/album/jpMwxaoqVT4DU9g/add',\n",
       "  'method': 'POST'},\n",
       " 'success': False,\n",
       " 'status': 403}"
      ]
     },
     "execution_count": 38,
     "metadata": {},
     "output_type": "execute_result"
    }
   ],
   "source": [
    "r.json()"
   ]
  },
  {
   "cell_type": "markdown",
   "metadata": {},
   "source": [
    "# 2. Downloading files\n",
    "\n",
    "![](https://pics.onsizzle.com/downloading-98-downloading-99-downloading-failed-11367153.png)\n",
    "\n",
    "Downloading large files in chunks!\n",
    "\n",
    "http://www.greenteapress.com/thinkpython/thinkpython.pdf\n",
    "\n",
    "```python\n",
    "chunk_size = 256\n",
    "r = requests.get(url, stream=True)\n",
    "\n",
    "with open(\"python.pdf\", \"wb\") as f:\n",
    "    for chunk in r.iter_content(chunk_size=chunk_size):\n",
    "        f.write(chunk)\n",
    "```"
   ]
  },
  {
   "cell_type": "code",
   "execution_count": 46,
   "metadata": {},
   "outputs": [],
   "source": [
    "url = \"http://www.greenteapress.com/thinkpython/thinkpython.pdf\""
   ]
  },
  {
   "cell_type": "code",
   "execution_count": 47,
   "metadata": {},
   "outputs": [],
   "source": [
    "chunk_size = 256"
   ]
  },
  {
   "cell_type": "code",
   "execution_count": 62,
   "metadata": {},
   "outputs": [],
   "source": [
    "r = requests.get(url, stream=True)"
   ]
  },
  {
   "cell_type": "code",
   "execution_count": 55,
   "metadata": {},
   "outputs": [],
   "source": [
    "from math import ceil"
   ]
  },
  {
   "cell_type": "code",
   "execution_count": 56,
   "metadata": {},
   "outputs": [
    {
     "data": {
      "text/plain": [
       "2"
      ]
     },
     "execution_count": 56,
     "metadata": {},
     "output_type": "execute_result"
    }
   ],
   "source": [
    "ceil(1.1)"
   ]
  },
  {
   "cell_type": "code",
   "execution_count": 58,
   "metadata": {},
   "outputs": [],
   "source": [
    "total = ceil(int(r.headers['Content-Length']) / chunk_size)"
   ]
  },
  {
   "cell_type": "code",
   "execution_count": 59,
   "metadata": {},
   "outputs": [
    {
     "data": {
      "text/plain": [
       "3261"
      ]
     },
     "execution_count": 59,
     "metadata": {},
     "output_type": "execute_result"
    }
   ],
   "source": [
    "total"
   ]
  },
  {
   "cell_type": "code",
   "execution_count": 63,
   "metadata": {},
   "outputs": [
    {
     "data": {
      "application/vnd.jupyter.widget-view+json": {
       "model_id": "c4ceb5e55a6e4f9e91560cf2b36e9f62",
       "version_major": 2,
       "version_minor": 0
      },
      "text/plain": [
       "HBox(children=(IntProgress(value=0, max=3261), HTML(value='')))"
      ]
     },
     "metadata": {},
     "output_type": "display_data"
    },
    {
     "name": "stdout",
     "output_type": "stream",
     "text": [
      "\n"
     ]
    }
   ],
   "source": [
    "with open(\"python.pdf\", 'wb') as f:\n",
    "    for chunk in tqdm_notebook(r.iter_content(chunk_size=chunk_size), total=total):\n",
    "        f.write(chunk)"
   ]
  },
  {
   "cell_type": "code",
   "execution_count": 61,
   "metadata": {},
   "outputs": [],
   "source": [
    "from tqdm import tqdm_notebook"
   ]
  },
  {
   "cell_type": "code",
   "execution_count": 65,
   "metadata": {},
   "outputs": [
    {
     "data": {
      "application/vnd.jupyter.widget-view+json": {
       "model_id": "4379f865aa7b46c28beb297724a27a5c",
       "version_major": 2,
       "version_minor": 0
      },
      "text/plain": [
       "HBox(children=(IntProgress(value=0, max=10000000), HTML(value='')))"
      ]
     },
     "metadata": {},
     "output_type": "display_data"
    },
    {
     "name": "stdout",
     "output_type": "stream",
     "text": [
      "\n"
     ]
    }
   ],
   "source": [
    "for x in tqdm_notebook(range(10000000)):\n",
    "    pass"
   ]
  },
  {
   "cell_type": "markdown",
   "metadata": {},
   "source": [
    "# 3. Web scraping\n",
    "\n",
    "![](https://image.slidesharecdn.com/scrapingtotherescue-160713133749/95/getting-started-with-web-scraping-in-python-9-638.jpg?cb=1468417631)\n"
   ]
  },
  {
   "cell_type": "markdown",
   "metadata": {},
   "source": [
    "## [Beautiful Soup](https://www.crummy.com/software/BeautifulSoup/bs4/doc/)\n",
    "\n",
    ">Beautiful Soup is a Python library for pulling data out of HTML and XML files. It works with your favorite parser to provide idiomatic ways of navigating, searching, and modifying the parse tree. It commonly saves programmers hours or days of work.\n",
    "\n",
    "### Installation\n",
    "\n",
    "```\n",
    "pip install bs4\n",
    "```\n",
    "\n",
    "**Bonus:**\n",
    "```\n",
    "pip install html5lib\n",
    "```"
   ]
  },
  {
   "cell_type": "markdown",
   "metadata": {},
   "source": [
    "https://www.values.com/inspirational-quotes"
   ]
  },
  {
   "cell_type": "code",
   "execution_count": 66,
   "metadata": {},
   "outputs": [],
   "source": [
    "url = \"https://www.passiton.com/inspirational-quotes\""
   ]
  },
  {
   "cell_type": "code",
   "execution_count": 67,
   "metadata": {},
   "outputs": [],
   "source": [
    "r = requests.get(url)"
   ]
  },
  {
   "cell_type": "code",
   "execution_count": 68,
   "metadata": {},
   "outputs": [
    {
     "data": {
      "text/plain": [
       "b'<!DOCTYPE html>\\n<html dir=\"ltr\" lang=\"en-US\">\\n<head>\\n    <meta http-equiv=\"content-type\" content=\"text/html; charset=utf-8\" />\\n    <link href=\"https://fonts.googleapis.com/css?family=Roboto:900|Lato:300,400,400italic,600,700|Raleway:300,400,500,600,700|Crete+Round:400italic|Zilla+Slab\" rel=\"stylesheet\" type=\"text/css\" />\\n    <link rel=\"stylesheet\" media=\"all\" href=\"/assets/application-f7c42ac1a26bc766307e42ff5df71b58.css\" />\\n\\n    <meta charset=\"utf-8\" />\\n    <meta name=\"viewport\" content=\"width=device-width, initial-scale=1\" />\\n    <!--[if lt IE 9]><script src=\"http://css3-mediaqueries-js.googlecode.com/svn/trunk/css3-mediaqueries.js\"></script><![endif]-->\\n    <title>Inspirational Quotes - Motivational Quotes - Leadership Quotes | PassItOn.com</title>\\n    <meta name=\"description\" content=\"Find the perfect quotation from our hand-picked collection of inspiring quotes by hundreds of authors.\" />\\n    <meta name=\"csrf-param\" content=\"authenticity_token\" />\\n<meta name=\"csrf-token\" content=\"xPcLg04+AnBnXXbyyT4OLbGnNrsz3emGNAeQioyZ9SJOq/u4decELzx1l+gWN7tSMRuS32ftWEZaFmLAnkszvg==\" />\\n\\n    <script>\\n        (function(i,s,o,g,r,a,m){i[\\'GoogleAnalyticsObject\\']=r;i[r]=i[r]||function(){\\n        (i[r].q=i[r].q||[]).push(arguments)},i[r].l=1*new Date();a=s.createElement(o),\\n        m=s.getElementsByTagName(o)[0];a.async=1;a.src=g;m.parentNode.insertBefore(a,m)\\n        })(window,document,\\'script\\',\\'//www.google-analytics.com/analytics.js\\',\\'ga\\');\\n        ga(\\'create\\', \\'UA-1179606-29\\', \\'auto\\');\\n        ga(\\'require\\', \\'displayfeatures\\');\\n        ga(\\'send\\', \\'pageview\\');\\n    </script>\\n\\n    <script>\\n      window.fbAsyncInit = function() {\\n        FB.init({\\n          appId      : \\'483774921971842\\',\\n          cookie     : true,\\n          xfbml      : true,\\n          version    : \\'3.0\\'\\n        });\\n\\n        FB.AppEvents.logPageView();\\n\\n      };\\n\\n      (function(d, s, id){\\n         var js, fjs = d.getElementsByTagName(s)[0];\\n         if (d.getElementById(id)) {return;}\\n         js = d.createElement(s); js.id = id;\\n         js.src = \"https://connect.facebook.net/en_US/sdk.js\";\\n         fjs.parentNode.insertBefore(js, fjs);\\n       }(document, \\'script\\', \\'facebook-jssdk\\'));\\n    </script>\\n\\n    <meta property=\"og:site_name\" content=\"passiton.com\">\\n    <meta property=\"og:title\" content=\"Inspirational Quotes - Motivational Quotes - Leadership Quotes\" />\\n    <meta property=\"og:type\" content=\"website\" />\\n    <meta property=\"og:image\" content=\"https://www.passiton.com/passiton.jpg\" />\\n    <meta property=\"og:url\" content=\"https://www.passiton.com/inspirational-quotes\" />\\n    <meta property=\"og:description\" content=\"Find the perfect quotation from our hand-picked collection of inspiring quotes by hundreds of authors.\" />\\n    <meta property=\"fb:app_id\" content=\"483774921971842\" />\\n\\n    <meta name=\"twitter:card\" content=\"summary_large_image\" />\\n    <meta name=\"twitter:site\" content=\"@passiton\" />\\n    <meta name=\"twitter:creator\" content=\"@passiton\">\\n    <meta name=\"twitter:title\" content=\"Inspirational Quotes - Motivational Quotes - Leadership Quotes\" />\\n    <meta name=\"twitter:description\" content=\"Find the perfect quotation from our hand-picked collection of inspiring quotes by hundreds of authors.\" />\\n    <meta name=\"twitter:image\" content=\"https://www.passiton.com/passiton.jpg\" />\\n    <meta name=\"twitter:url\" content=\"https://www.passiton.com/inspirational-quotes\" />\\n\\n    <meta itemprop=\"name\" content=\"passiton.com\">\\n    <meta itemprop=\"description\" content=\"Find the perfect quotation from our hand-picked collection of inspiring quotes by hundreds of authors.\">\\n    <meta itemprop=\"image\" content=\"https://www.passiton.com/passiton.jpg\">\\n\\n    <link rel=\"apple-touch-icon\" sizes=\"180x180\" href=\"/apple-touch-icon.png\">\\n    <link rel=\"icon\" type=\"image/png\" sizes=\"32x32\" href=\"/favicon-32x32.png\">\\n    <link rel=\"icon\" type=\"image/png\" sizes=\"16x16\" href=\"/favicon-16x16.png\">\\n    <link rel=\"mask-icon\" href=\"/passiton_arrow.svg\" color=\"#C8102E\">\\n    <link rel=\"manifest\" href=\"/manifest.json\">\\n    <link rel=\"mask-icon\" href=\"/safari-pinned-tab.svg\" color=\"#5bbad5\">\\n    <meta name=\"apple-mobile-web-app-title\" content=\"passiton\">\\n    <meta name=\"application-name\" content=\"passiton\">\\n    <meta name=\"theme-color\" content=\"#f1f1f1\">\\n\\n    \\n</head>\\n<body class=\"stretched no-transition quotes_index\">\\n\\n    <div id=\"wrapper\" class=\"clearfix\">\\n\\n        <header id=\"header\" class=\"full-header dark\" data-sticky-class=\"dark\">\\n\\n            <div id=\"header-wrap\">\\n\\n                <div class=\"container clearfix\">\\n\\n                    <div id=\"primary-menu-trigger\"><i class=\"icon-reorder\"></i></div>\\n\\n                    <div id=\"logo\">\\n                        <a href=\"/\" class=\"standard-logo\" data-dark-logo=\"/assets/logo-dark-7b51f8d9634d3b1a21937f284fa87e90.png\"><img src=\"/assets/logo-7b51f8d9634d3b1a21937f284fa87e90.png\" alt=\"passiton.com\"></a>\\n                        <a href=\"/\" class=\"retina-logo\" data-dark-logo=\"/assets/logo-dark@2x-489985db9fac6d33cd09d160857bedd4.png\"><img src=\"/assets/logo@2x-489985db9fac6d33cd09d160857bedd4.png\" alt=\"passiton.com\"></a>\\n                    </div>\\n\\n                    <nav id=\"primary-menu\" class=\"\">\\n\\n                        <ul>\\n                            <li class=\"current\"><a href=\"/inspirational-quotes\">quotes</a></li>\\n                            <li class=\"\"><a href=\"/inspirational-stories-tv-spots\">videos</a></li>\\n\\n                            <li class=\"\"><a href=\"/inspirational-sayings-billboards\"><i class=\\'icon-caret-down\\'></i> billboards</a>\\n                                <ul>\\n                                    <li class=\"\"><a href=\"/inspirational-sayings-billboards\">official billboards</a></li>\\n                                    <li class=\"\"><a href=\"/your-billboards/create\">create your own billboard</a></li>\\n                                </ul>\\n                            </li>\\n\\n                            <li class=\"\"><a href=\"/radio\">radio ads</a></li>\\n                            <li class=\"\"><a href=\"/who-we-are\">about us</a></li>\\n                            <li class=\"\"><a href=\"/contact-us\">contact</a></li>\\n                            <li class=\"\"><a class=\"dropdown-toggle\" href=\"\"><i class=\\'icon-caret-down\\'></i> language</a>\\n                                <ul class=\\'dark\\'>\\n                                    <li class=\\'dark\\'><a target=\"_blank\" href=\"https://www.pasala.org/\">Espa\\xc3\\xb1ol</a></li>\\n                                    <li class=\\'dark\\'><a target=\"_blank\" href=\"https://www.umavidamelhor.org/\">Portugu\\xc3\\xaas</a></li>\\n                                    <li class=\\'dark\\'><a target=\"_blank\" href=\"https://values.cn.com/\">\\xe4\\xb8\\xad\\xe6\\x96\\x87</a></li>\\n                                </ul>\\n                            </li>\\n                        </ul>\\n\\n                        <div id=\"top-search\">\\n                            <a href=\"#\" id=\"top-search-trigger\"><i class=\"icon-search3\"></i><i class=\"icon-line-cross\"></i></a>\\n                            <form action=\"/search\" method=\"get\">\\n                                <input type=\"text\" name=\"q\" class=\"form-control\" value=\"\" placeholder=\"search\">\\n                            </form>\\n                        </div>\\n\\n                    </nav>\\n\\n                </div>\\n\\n            </div>\\n\\n        </header>\\n\\n        \\n<section id=\"content\">\\n\\n\\t<div class=\"content-wrap\">\\n\\n\\t\\t<div class=\"container clearfix\">\\n\\n\\t\\t\\t<div class=\\'center_wrapper\\'>\\n\\n\\t\\t\\t\\t<div class=\\'row\\'>\\n\\n\\t<div class=\\'col-sm-12\\'>\\n\\n\\t\\t<div class=\\'inbox_inspiration text-left\\'>\\n\\n\\t\\t\\t<div class=\\'row\\'>\\n\\n\\t\\t\\t\\t<div class=\\'col-sm-4\\'>\\n\\n\\t\\t\\t\\t\\t<h5>Subscribe to our FREE<br />inspirational quote emails!</h5>\\n\\n\\t\\t\\t\\t\\t<form novalidate=\"novalidate\" class=\"simple_form new_user\" id=\"new_user\" action=\"/users\" accept-charset=\"UTF-8\" method=\"post\"><input name=\"utf8\" type=\"hidden\" value=\"&#x2713;\" /><input type=\"hidden\" name=\"authenticity_token\" value=\"U1QmHxZ27fgTBnCvsTTXekepMiv6pnJbBwNeQF7ixYrZCNYkLa/rp0gukbVuPWIFxxWWT66Ww5tpEqwKTDADFg==\" />\\n\\n\\t\\t\\t\\t\\t\\t<div class=\"row\">\\n\\t\\t\\t\\t\\t\\t\\t<div class=\"col-sm-8\">\\n\\t\\t\\t\\t\\t\\t\\t\\t<div class=\"input email optional user_email\"><input class=\"string email optional sm-form-control sm-form-control-grey\" style=\"height: 32px;\" placeholder=\"Type your email address\" type=\"email\" name=\"user[email]\" id=\"user_email\" /></div>\\n\\t\\t\\t\\t\\t\\t\\t</div>\\n\\t\\t\\t\\t\\t\\t\\t<div class=\"col-sm-4\">\\n\\t\\t\\t\\t\\t\\t\\t\\t<input type=\"submit\" name=\"commit\" value=\"Subscribe\" class=\"btn btn btn-default btn-red noradius btn-hero\" data-disable-with=\"Sending...\" />\\n\\t\\t\\t\\t\\t\\t\\t</div>\\n\\t\\t\\t\\t\\t\\t</div>\\n\\n</form>\\n\\t\\t\\t\\t</div>\\n\\n\\t\\t\\t\\t<div class=\\'col-sm-8\\'>\\n\\n\\t\\t\\t\\t\\t<div class=\\'row\\'>\\n\\t\\t\\t\\t\\t\\t<div class=\\'col-sm-4 bumper\\'>\\n\\t\\t\\t\\t\\t\\t\\t<div class=\"cycle-slideshow\" data-cycle-fx=flipHorz data-cycle-timeout=7000>\\n\\t\\t\\t\\t\\t\\t\\t\\t<img class=\"img-responsive\" src=\"https://quotes.values.com/quote_artwork/3763/medium/20170116_monday_quote.jpg\" alt=\"20170116 monday quote\" />\\n\\t\\t\\t\\t\\t\\t\\t\\t<img class=\"img-responsive\" src=\"https://quotes.values.com/quote_artwork/7347/medium/friday_quote.jpg\" alt=\"Friday quote\" />\\n\\t\\t\\t\\t\\t\\t\\t\\t<img class=\"img-responsive\" src=\"https://quotes.values.com/quote_artwork/5014/medium/20170303_friday_quote.jpg\" alt=\"20170303 friday quote\" />\\n\\t\\t\\t\\t\\t\\t\\t</div>\\n\\t\\t\\t\\t\\t\\t</div>\\n\\t\\t\\t\\t\\t\\t<div class=\\'col-sm-4 bumper\\'>\\n\\t\\t\\t\\t\\t\\t\\t<div class=\"cycle-slideshow\" data-cycle-fx=flipHorz data-cycle-timeout=6800>\\n\\t\\t\\t\\t\\t\\t\\t\\t<img class=\"img-responsive\" src=\"https://quotes.values.com/quote_artwork/7579/medium/20161213_tuesday_quote_new.jpg\" alt=\"20161213 tuesday quote new\" />\\n\\t\\t\\t\\t\\t\\t\\t\\t<img class=\"img-responsive\" src=\"https://quotes.values.com/quote_artwork/7313/medium/monday_quote.jpg\" alt=\"Monday quote\" />\\n\\t\\t\\t\\t\\t\\t\\t\\t<img class=\"img-responsive\" src=\"https://quotes.values.com/quote_artwork/7302/medium/friday_quote.jpg\" alt=\"Friday quote\" />\\n\\t\\t\\t\\t\\t\\t\\t</div>\\n\\t\\t\\t\\t\\t\\t</div>\\n\\t\\t\\t\\t\\t\\t<div class=\\'col-sm-4 bumper\\'>\\n\\t\\t\\t\\t\\t\\t\\t<div class=\"cycle-slideshow\" data-cycle-fx=flipHorz data-cycle-timeout=6600>\\n\\t\\t\\t\\t\\t\\t\\t\\t<img class=\"img-responsive\" src=\"https://quotes.values.com/quote_artwork/6741/medium/20160906_tuesday_quote.jpg\" alt=\"20160906 tuesday quote\" />\\n\\t\\t\\t\\t\\t\\t\\t\\t<img class=\"img-responsive\" src=\"https://quotes.values.com/quote_artwork/7280/medium/wednesday_quote.jpg\" alt=\"Wednesday quote\" />\\n\\t\\t\\t\\t\\t\\t\\t\\t<img class=\"img-responsive\" src=\"https://quotes.values.com/quote_artwork/7279/medium/tuesday_quote.jpg\" alt=\"Tuesday quote\" />\\n\\t\\t\\t\\t\\t\\t\\t</div>\\n\\t\\t\\t\\t\\t\\t</div>\\n\\t\\t\\t\\t\\t</div>\\n\\n\\t\\t\\t\\t</div>\\n\\n\\t\\t\\t</div>\\n\\n\\t\\t</div>\\n\\n\\t</div>\\n\\n</div>\\n\\n\\t\\t\\t\\t<div class=\\'row\\'>\\n\\n\\t\\t\\t\\t\\t<div class=\\'col-sm-6 col-sm-offset-3\\'>\\n\\n\\t\\t\\t\\t\\t\\t<form id=\"\" action=\"/inspirational-quotes\" role=\"form\" method=\"get\" class=\"nobottommargin\">\\n\\t\\t\\t\\t\\t\\t\\t<div class=\"input-group divcenter\">\\n\\t\\t\\t\\t\\t\\t\\t\\t<input type=\"text\" name=\"q\" class=\"form-control\" placeholder=\"Search quotes...\">\\n\\t\\t\\t\\t\\t\\t\\t\\t<span class=\"input-group-btn\">\\n\\t\\t\\t\\t\\t\\t\\t\\t\\t<button class=\"btn btn-default\" type=\"submit\">search</button>\\n\\t\\t\\t\\t\\t\\t\\t\\t</span>\\n\\t\\t\\t\\t\\t\\t\\t</div>\\n\\t\\t\\t\\t\\t\\t</form>\\n\\n\\t\\t\\t\\t\\t\\t<hr />\\n\\n\\t\\t\\t\\t\\t</div>\\n\\n\\t\\t\\t\\t</div>\\n\\n\\t\\t\\t</div>\\n\\n\\t\\t\\t<div class=\"clear\"></div>\\n\\n\\t\\t\\t<div id=\"portfolio\" class=\"portfolio grid-container portfolio-4 portfolio-masonry clearfix\">\\n\\t\\t\\t\\t<article class=\"portfolio-item quotation optimism\">\\n    <div class=\"portfolio-image\">\\n        <a href=\"/inspirational-quotes/7856-the-secret-of-change-is-to-focus-all-of-your\"><img alt=\"The secret of change is to focus all of your energy, not on fighting the old, but on building the new. #&lt;Author:0x007f2246ce37a8&gt;\" class=\"hover\" src=\"https://quotes.values.com/quote_artwork/7856/medium/20190103_thursday_quote.jpg?1546034335\" /></a>\\n    </div>\\n</article>\\n<article class=\"portfolio-item quotation optimism\">\\n    <div class=\"portfolio-image\">\\n        <a href=\"/inspirational-quotes/7855-i-close-my-eyes-to-old-ends-and-open-my-heart\"><img alt=\"I close my eyes to old ends. And open my heart to new beginnings. #&lt;Author:0x007f2246fdf3d0&gt;\" class=\"hover\" src=\"https://quotes.values.com/quote_artwork/7855/medium/20190102_wednesday_quote.jpg?1546034298\" /></a>\\n    </div>\\n</article>\\n<article class=\"portfolio-item quotation optimism\">\\n    <div class=\"portfolio-image\">\\n        <a href=\"/inspirational-quotes/7858-what-a-wonderful-thought-it-is-that-some-of-the\"><img alt=\"What a wonderful thought it is that some of the best days of our lives haven&#39;t even happened yet. #&lt;Author:0x007f2246fd9e30&gt;\" class=\"hover\" src=\"https://quotes.values.com/quote_artwork/7858/medium/20190101_tuesday_quote_alternate.jpg?1546208533\" /></a>\\n    </div>\\n</article>\\n<article class=\"portfolio-item quotation optimism\">\\n    <div class=\"portfolio-image\">\\n        <a href=\"/inspirational-quotes/3998-the-future-belongs-to-those-who-believe-in-the\"><img alt=\"The future belongs to those who believe in the beauty of their dreams. #&lt;Author:0x007f2246693b50&gt;\" class=\"hover\" src=\"https://quotes.values.com/quote_artwork/3998/medium/20181231_monday_quote_alternate.jpg?1546208733\" /></a>\\n    </div>\\n</article>\\n<article class=\"portfolio-item quotation love\">\\n    <div class=\"portfolio-image\">\\n        <a href=\"/inspirational-quotes/7682-love-is-not-only-something-you-feel-it-is\"><img alt=\"Love is not only something you feel, it is something you do. #&lt;Author:0x007f22464cb2c8&gt;\" class=\"hover\" src=\"https://quotes.values.com/quote_artwork/7682/medium/20181228_friday_quote.jpg?1545417482\" /></a>\\n    </div>\\n</article>\\n<article class=\"portfolio-item quotation love\">\\n    <div class=\"portfolio-image\">\\n        <a href=\"/inspirational-quotes/7593-your-circumstance-doesn-t-make-life\"><img alt=\"Your circumstance doesn\\xe2\\x80\\x99t make life extraordinary. Love does. #&lt;Author:0x007f224644b0a0&gt;\" class=\"hover\" src=\"https://quotes.values.com/quote_artwork/7593/medium/20181227_thursday_quote.jpg?1545417444\" /></a>\\n    </div>\\n</article>\\n<article class=\"portfolio-item quotation love\">\\n    <div class=\"portfolio-image\">\\n        <a href=\"/inspirational-quotes/6900-let-us-see-what-love-can-do\"><img alt=\"Let us see what love can do. #&lt;Author:0x007f22462a71b8&gt;\" class=\"hover\" src=\"https://quotes.values.com/quote_artwork/6900/medium/20181226_wednesday_quote.jpg?1545417393\" /></a>\\n    </div>\\n</article>\\n<article class=\"portfolio-item quotation love\">\\n    <div class=\"portfolio-image\">\\n        <a href=\"/inspirational-quotes/6909-and-the-grinch-with-his-grinch-feet-ice-cold\"><img alt=\"And the Grinch, with his Grinch-feet ice cold in the snow, stood puzzling and puzzling, how could it be so? It came without ribbons. It came without tags. It came without packages, boxes or bags. And he puzzled and puzzled &#39;till his puzzler was sore. Then the Grinch thought of something he hadn&#39;t before. What if Christmas, he thought, doesn&#39;t come from a store? What if Christmas, perhaps, means a little bit more? #&lt;Author:0x007f2246174e58&gt;\" class=\"hover\" src=\"https://quotes.values.com/quote_artwork/6909/medium/20181225_tuesday_quote.jpg?1545417358\" /></a>\\n    </div>\\n</article>\\n<article class=\"portfolio-item quotation love\">\\n    <div class=\"portfolio-image\">\\n        <a href=\"/inspirational-quotes/3548-the-love-in-your-heart-wasnt-put-there-to-stay\"><img alt=\"The love in your heart wasn&#39;t put there to stay. Love isn&#39;t love &#39;til you give it away. #&lt;Author:0x007f2245fcded8&gt;\" class=\"hover\" src=\"https://quotes.values.com/quote_artwork/3548/medium/20181224_monday_quote.jpg?1545417323\" /></a>\\n    </div>\\n</article>\\n<article class=\"portfolio-item quotation family\">\\n    <div class=\"portfolio-image\">\\n        <a href=\"/inspirational-quotes/4770-what-greater-thing-is-there-for-human-souls\"><img alt=\"What greater thing is there for human souls than to feel that they are joined for life - to be with each other in silent unspeakable memories. #&lt;Author:0x007f2245e9d040&gt;\" class=\"hover\" src=\"https://quotes.values.com/quote_artwork/4770/medium/20181221_friday_quote.jpg?1544814559\" /></a>\\n    </div>\\n</article>\\n<article class=\"portfolio-item quotation family\">\\n    <div class=\"portfolio-image\">\\n        <a href=\"/inspirational-quotes/7853-my-family-is-my-life-and-everything-else-comes\"><img alt=\"My family is my life, and everything else comes second as far as what&#39;s important to me. #&lt;Author:0x007f2245dca820&gt;\" class=\"hover\" src=\"https://quotes.values.com/quote_artwork/7853/medium/20181220_thursday_quote.jpg?1545070947\" /></a>\\n    </div>\\n</article>\\n<article class=\"portfolio-item quotation family\">\\n    <div class=\"portfolio-image\">\\n        <a href=\"/inspirational-quotes/7183-having-somewhere-to-go-is-home-having-someone\"><img alt=\"Having somewhere to go is home, having someone to love is family, having both is blessing. #&lt;Author:0x007f2245d105b0&gt;\" class=\"hover\" src=\"https://quotes.values.com/quote_artwork/7183/medium/20181219_wednesday_quote.jpg?1544814499\" /></a>\\n    </div>\\n</article>\\n<article class=\"portfolio-item quotation family\">\\n    <div class=\"portfolio-image\">\\n        <a href=\"/inspirational-quotes/7852-family-and-friends-are-hidden-treasures-seek\"><img alt=\"Family and friends are hidden treasures, seek them and enjoy their riches. #&lt;Author:0x007f2245316dc0&gt;\" class=\"hover\" src=\"https://quotes.values.com/quote_artwork/7852/medium/20181218_tuesday_quote.jpg?1544814470\" /></a>\\n    </div>\\n</article>\\n<article class=\"portfolio-item quotation family\">\\n    <div class=\"portfolio-image\">\\n        <a href=\"/inspirational-quotes/7182-the-bond-that-links-your-true-family-is-not-one\"><img alt=\"The bond that links your true family is not one of blood, but of respect and joy in each other&#39;s life. Rarely do members of one family grow up under the same roof. #&lt;Author:0x007f224576f778&gt;\" class=\"hover\" src=\"https://quotes.values.com/quote_artwork/7182/medium/20181217_monday_quote.jpg?1544814443\" /></a>\\n    </div>\\n</article>\\n<article class=\"portfolio-item quotation giving back\">\\n    <div class=\"portfolio-image\">\\n        <a href=\"/inspirational-quotes/7077-the-best-way-to-find-yourself-is-to-lose\"><img alt=\"The best way to find yourself is to lose yourself in the service of others. #&lt;Author:0x007f2245680ce0&gt;\" class=\"hover\" src=\"https://quotes.values.com/quote_artwork/7077/medium/20181214_friday_quote_alternate.jpg?1544207576\" /></a>\\n    </div>\\n</article>\\n<article class=\"portfolio-item quotation giving back\">\\n    <div class=\"portfolio-image\">\\n        <a href=\"/inspirational-quotes/3685-lifes-most-urgent-question-is-what-are-you\"><img alt=\"Life&#39;s most urgent question is: What are you doing for others? #&lt;Author:0x007f2245651170&gt;\" class=\"hover\" src=\"https://quotes.values.com/quote_artwork/3685/medium/20181213_thursday_quote.jpg?1544207538\" /></a>\\n    </div>\\n</article>\\n\\n\\t\\t\\t</div>\\n\\n\\t\\t</div>\\n\\n\\t</div>\\n\\n    <div class=\\'center_wrapper\\'>\\n\\t\\t<div class=\"pagination-centered\" id=\"infinite-scrolling\">\\n        \\t<ul class=\"pagination\"><li class=\"prev previous_page unavailable\"><a href=\"#\">&laquo;</a></li> <li class=\"current\"><a href=\"/inspirational-quotes?page=1\">1</a></li> <li><a rel=\"next\" href=\"/inspirational-quotes?page=2\">2</a></li> <li><a href=\"/inspirational-quotes?page=3\">3</a></li> <li><a href=\"/inspirational-quotes?page=4\">4</a></li> <li><a href=\"/inspirational-quotes?page=5\">5</a></li> <li class=\"unavailable\"><a href=\"#\"><span class=\"gap\">&hellip;</span></a></li> <li><a href=\"/inspirational-quotes?page=221\">221</a></li> <li class=\"next next_page \"><a rel=\"next\" href=\"/inspirational-quotes?page=2\">&raquo;</a></li></ul>\\n\\t    </div>\\n\\t</div>\\n\\n</section>\\n\\n        <footer id=\"footer\" class=\\'dark\\'>\\n\\n            <div class=\"container clearfix\">\\n\\n                <div class=\\'row\\'>\\n\\n                    <div class=\"col-sm-3\">\\n                        <ul class=\\'footer_nav_links\\'>\\n                            <li><a href=\"/inspirational-quotes\">Inspirational Quotations</a></li>\\n                            <li><a href=\"/inspirational-stories-tv-spots\">Pass It On Videos</a></li>\\n                            <li><a href=\"/inspirational-sayings-billboards\">Billboards</a></li>\\n                            <li><a href=\"/radio\">Radio Ads</a></li>\\n                            <li><a href=\"/inspirational-audio-stories\">Podcasts</a></li>\\n                            <li><a href=\"/pass-it-on-ecards\">Ecards</a></li>\\n                            <li><a href=\"/pass-it-on-downloads\">Downloads</a></li>\\n                        </ul>\\n                    </div>\\n\\n                    <div class=\"col-sm-3\">\\n                        <ul class=\\'footer_nav_links\\'>\\n                            <li><a href=\"/your-inspirational-stories\">Your Value Stories</a></li>\\n                            <li><a href=\"/your-inspirational-stories/submit\">What Value Defines You?</a></li>\\n                            <li><a href=\"/your-everyday-heroes\">Your Hero Stories</a></li>\\n                            <li><a href=\"/your-everyday-heroes/submit\">Tell Us About Your Hero</a></li>\\n                            <li><a href=\"/your-billboards\">Create Your Own Billboard</a></li>\\n                            <li><a href=\"/users/subscribe\">Subscribe to Daily Quotes</a></li>\\n                            <li><a href=\"/poster-requests/new\">Free Posters &amp; DVD for Schools</a></li>\\n                        </ul>\\n                    </div>\\n\\n                    <div class=\"col-sm-3\">\\n                        <ul class=\\'footer_nav_links\\'>\\n                            <li><a href=\"/who-we-are\">About Us</a></li>\\n                            <li><a href=\"/who-we-are#faqs\">FAQs</a></li>\\n                            <li><a href=\"/contact-us\">Contact Us</a></li>\\n                            <li><a href=\"/who-we-are#awards\">Foundation Recognition</a></li>\\n                            <li><a href=\"/who-we-are#media\">For Media Companies</a></li>\\n                            <li><a href=\"/terms-of-use\">Terms of Use</a> & <a href=\"/privacy-policy\">Privacy Policy</a></li>\\n                            <li style=\\'color: #1a1a1a;\\'>en</li>\\n                        </ul>\\n\\n                        <div class=\\'clearfix\\'></div>\\n\\n                    </div>\\n\\n                    <div class=\"col-sm-3\">\\n                        <a href=\"/\"><img style=\"margin-bottom: 20px;\" src=\"/assets/passiton_footer_logo-096b4c04a71fdd79573aea3579388f88.png\" alt=\"Passiton footer logo\" width=\"200\" height=\"26\" /></a><br />\\n\\n                        <ul class=\\'passiton-share-icons\\'>\\n                            <li><a href=\"https://www.facebook.com/valuescom\" class=\"social-icon si-small si-rounded si-facebook\"><i class=\"icon-facebook\"></i></a></li>\\n                            <li><a href=\"https://twitter.com/valuescom\" class=\"social-icon si-small si-rounded si-twitter\"><i class=\"icon-twitter\"></i></a></li>\\n                            <li><a href=\"https://www.instagram.com/passiton_com/\" class=\"social-icon si-small si-rounded si-instagram\"><i class=\"icon-instagram\"></i></a></li>\\n                            <li><a href=\"https://www.youtube.com/c/PassItOncom\" class=\"social-icon si-small si-rounded si-youtube\"><i class=\"icon-youtube-play\"></i></a></li>\\n                            <li><a href=\"https://www.pinterest.com/passiton/\" class=\"social-icon si-small si-rounded si-pinterest\"><i class=\"icon-pinterest\"></i></a></li>\\n                        </ul>\\n                    </div>\\n\\n                </div>\\n\\n            </div>\\n\\n        </footer>\\n\\n    </div>\\n\\n    <div id=\"gotoTop\" class=\"icon-angle-up\"></div>\\n\\n    <script src=\"/assets/application-739eb79af205cb6d65cef9be8c483acb.js\"></script>\\n    \\n\\n</body>\\n</html>'"
      ]
     },
     "execution_count": 68,
     "metadata": {},
     "output_type": "execute_result"
    }
   ],
   "source": [
    "r.content"
   ]
  },
  {
   "cell_type": "code",
   "execution_count": 69,
   "metadata": {},
   "outputs": [],
   "source": [
    "from bs4 import BeautifulSoup"
   ]
  },
  {
   "cell_type": "code",
   "execution_count": 72,
   "metadata": {},
   "outputs": [],
   "source": [
    "soup = BeautifulSoup(r.content, 'html5lib')"
   ]
  },
  {
   "cell_type": "code",
   "execution_count": 73,
   "metadata": {
    "scrolled": false
   },
   "outputs": [
    {
     "name": "stdout",
     "output_type": "stream",
     "text": [
      "<!DOCTYPE html>\n",
      "<html dir=\"ltr\" lang=\"en-US\">\n",
      " <head>\n",
      "  <meta content=\"text/html; charset=utf-8\" http-equiv=\"content-type\"/>\n",
      "  <link href=\"https://fonts.googleapis.com/css?family=Roboto:900|Lato:300,400,400italic,600,700|Raleway:300,400,500,600,700|Crete+Round:400italic|Zilla+Slab\" rel=\"stylesheet\" type=\"text/css\"/>\n",
      "  <link href=\"/assets/application-f7c42ac1a26bc766307e42ff5df71b58.css\" media=\"all\" rel=\"stylesheet\"/>\n",
      "  <meta charset=\"utf-8\"/>\n",
      "  <meta content=\"width=device-width, initial-scale=1\" name=\"viewport\"/>\n",
      "  <!--[if lt IE 9]><script src=\"http://css3-mediaqueries-js.googlecode.com/svn/trunk/css3-mediaqueries.js\"></script><![endif]-->\n",
      "  <title>\n",
      "   Inspirational Quotes - Motivational Quotes - Leadership Quotes | PassItOn.com\n",
      "  </title>\n",
      "  <meta content=\"Find the perfect quotation from our hand-picked collection of inspiring quotes by hundreds of authors.\" name=\"description\"/>\n",
      "  <meta content=\"authenticity_token\" name=\"csrf-param\"/>\n",
      "  <meta content=\"xPcLg04+AnBnXXbyyT4OLbGnNrsz3emGNAeQioyZ9SJOq/u4decELzx1l+gWN7tSMRuS32ftWEZaFmLAnkszvg==\" name=\"csrf-token\"/>\n",
      "  <script>\n",
      "   (function(i,s,o,g,r,a,m){i['GoogleAnalyticsObject']=r;i[r]=i[r]||function(){\n",
      "        (i[r].q=i[r].q||[]).push(arguments)},i[r].l=1*new Date();a=s.createElement(o),\n",
      "        m=s.getElementsByTagName(o)[0];a.async=1;a.src=g;m.parentNode.insertBefore(a,m)\n",
      "        })(window,document,'script','//www.google-analytics.com/analytics.js','ga');\n",
      "        ga('create', 'UA-1179606-29', 'auto');\n",
      "        ga('require', 'displayfeatures');\n",
      "        ga('send', 'pageview');\n",
      "  </script>\n",
      "  <script>\n",
      "   window.fbAsyncInit = function() {\n",
      "        FB.init({\n",
      "          appId      : '483774921971842',\n",
      "          cookie     : true,\n",
      "          xfbml      : true,\n",
      "          version    : '3.0'\n",
      "        });\n",
      "\n",
      "        FB.AppEvents.logPageView();\n",
      "\n",
      "      };\n",
      "\n",
      "      (function(d, s, id){\n",
      "         var js, fjs = d.getElementsByTagName(s)[0];\n",
      "         if (d.getElementById(id)) {return;}\n",
      "         js = d.createElement(s); js.id = id;\n",
      "         js.src = \"https://connect.facebook.net/en_US/sdk.js\";\n",
      "         fjs.parentNode.insertBefore(js, fjs);\n",
      "       }(document, 'script', 'facebook-jssdk'));\n",
      "  </script>\n",
      "  <meta content=\"passiton.com\" property=\"og:site_name\"/>\n",
      "  <meta content=\"Inspirational Quotes - Motivational Quotes - Leadership Quotes\" property=\"og:title\"/>\n",
      "  <meta content=\"website\" property=\"og:type\"/>\n",
      "  <meta content=\"https://www.passiton.com/passiton.jpg\" property=\"og:image\"/>\n",
      "  <meta content=\"https://www.passiton.com/inspirational-quotes\" property=\"og:url\"/>\n",
      "  <meta content=\"Find the perfect quotation from our hand-picked collection of inspiring quotes by hundreds of authors.\" property=\"og:description\"/>\n",
      "  <meta content=\"483774921971842\" property=\"fb:app_id\"/>\n",
      "  <meta content=\"summary_large_image\" name=\"twitter:card\"/>\n",
      "  <meta content=\"@passiton\" name=\"twitter:site\"/>\n",
      "  <meta content=\"@passiton\" name=\"twitter:creator\"/>\n",
      "  <meta content=\"Inspirational Quotes - Motivational Quotes - Leadership Quotes\" name=\"twitter:title\"/>\n",
      "  <meta content=\"Find the perfect quotation from our hand-picked collection of inspiring quotes by hundreds of authors.\" name=\"twitter:description\"/>\n",
      "  <meta content=\"https://www.passiton.com/passiton.jpg\" name=\"twitter:image\"/>\n",
      "  <meta content=\"https://www.passiton.com/inspirational-quotes\" name=\"twitter:url\"/>\n",
      "  <meta content=\"passiton.com\" itemprop=\"name\"/>\n",
      "  <meta content=\"Find the perfect quotation from our hand-picked collection of inspiring quotes by hundreds of authors.\" itemprop=\"description\"/>\n",
      "  <meta content=\"https://www.passiton.com/passiton.jpg\" itemprop=\"image\"/>\n",
      "  <link href=\"/apple-touch-icon.png\" rel=\"apple-touch-icon\" sizes=\"180x180\"/>\n",
      "  <link href=\"/favicon-32x32.png\" rel=\"icon\" sizes=\"32x32\" type=\"image/png\"/>\n",
      "  <link href=\"/favicon-16x16.png\" rel=\"icon\" sizes=\"16x16\" type=\"image/png\"/>\n",
      "  <link color=\"#C8102E\" href=\"/passiton_arrow.svg\" rel=\"mask-icon\"/>\n",
      "  <link href=\"/manifest.json\" rel=\"manifest\"/>\n",
      "  <link color=\"#5bbad5\" href=\"/safari-pinned-tab.svg\" rel=\"mask-icon\"/>\n",
      "  <meta content=\"passiton\" name=\"apple-mobile-web-app-title\"/>\n",
      "  <meta content=\"passiton\" name=\"application-name\"/>\n",
      "  <meta content=\"#f1f1f1\" name=\"theme-color\"/>\n",
      " </head>\n",
      " <body class=\"stretched no-transition quotes_index\">\n",
      "  <div class=\"clearfix\" id=\"wrapper\">\n",
      "   <header class=\"full-header dark\" data-sticky-class=\"dark\" id=\"header\">\n",
      "    <div id=\"header-wrap\">\n",
      "     <div class=\"container clearfix\">\n",
      "      <div id=\"primary-menu-trigger\">\n",
      "       <i class=\"icon-reorder\">\n",
      "       </i>\n",
      "      </div>\n",
      "      <div id=\"logo\">\n",
      "       <a class=\"standard-logo\" data-dark-logo=\"/assets/logo-dark-7b51f8d9634d3b1a21937f284fa87e90.png\" href=\"/\">\n",
      "        <img alt=\"passiton.com\" src=\"/assets/logo-7b51f8d9634d3b1a21937f284fa87e90.png\"/>\n",
      "       </a>\n",
      "       <a class=\"retina-logo\" data-dark-logo=\"/assets/logo-dark@2x-489985db9fac6d33cd09d160857bedd4.png\" href=\"/\">\n",
      "        <img alt=\"passiton.com\" src=\"/assets/logo@2x-489985db9fac6d33cd09d160857bedd4.png\"/>\n",
      "       </a>\n",
      "      </div>\n",
      "      <nav class=\"\" id=\"primary-menu\">\n",
      "       <ul>\n",
      "        <li class=\"current\">\n",
      "         <a href=\"/inspirational-quotes\">\n",
      "          quotes\n",
      "         </a>\n",
      "        </li>\n",
      "        <li class=\"\">\n",
      "         <a href=\"/inspirational-stories-tv-spots\">\n",
      "          videos\n",
      "         </a>\n",
      "        </li>\n",
      "        <li class=\"\">\n",
      "         <a href=\"/inspirational-sayings-billboards\">\n",
      "          <i class=\"icon-caret-down\">\n",
      "          </i>\n",
      "          billboards\n",
      "         </a>\n",
      "         <ul>\n",
      "          <li class=\"\">\n",
      "           <a href=\"/inspirational-sayings-billboards\">\n",
      "            official billboards\n",
      "           </a>\n",
      "          </li>\n",
      "          <li class=\"\">\n",
      "           <a href=\"/your-billboards/create\">\n",
      "            create your own billboard\n",
      "           </a>\n",
      "          </li>\n",
      "         </ul>\n",
      "        </li>\n",
      "        <li class=\"\">\n",
      "         <a href=\"/radio\">\n",
      "          radio ads\n",
      "         </a>\n",
      "        </li>\n",
      "        <li class=\"\">\n",
      "         <a href=\"/who-we-are\">\n",
      "          about us\n",
      "         </a>\n",
      "        </li>\n",
      "        <li class=\"\">\n",
      "         <a href=\"/contact-us\">\n",
      "          contact\n",
      "         </a>\n",
      "        </li>\n",
      "        <li class=\"\">\n",
      "         <a class=\"dropdown-toggle\" href=\"\">\n",
      "          <i class=\"icon-caret-down\">\n",
      "          </i>\n",
      "          language\n",
      "         </a>\n",
      "         <ul class=\"dark\">\n",
      "          <li class=\"dark\">\n",
      "           <a href=\"https://www.pasala.org/\" target=\"_blank\">\n",
      "            Español\n",
      "           </a>\n",
      "          </li>\n",
      "          <li class=\"dark\">\n",
      "           <a href=\"https://www.umavidamelhor.org/\" target=\"_blank\">\n",
      "            Português\n",
      "           </a>\n",
      "          </li>\n",
      "          <li class=\"dark\">\n",
      "           <a href=\"https://values.cn.com/\" target=\"_blank\">\n",
      "            中文\n",
      "           </a>\n",
      "          </li>\n",
      "         </ul>\n",
      "        </li>\n",
      "       </ul>\n",
      "       <div id=\"top-search\">\n",
      "        <a href=\"#\" id=\"top-search-trigger\">\n",
      "         <i class=\"icon-search3\">\n",
      "         </i>\n",
      "         <i class=\"icon-line-cross\">\n",
      "         </i>\n",
      "        </a>\n",
      "        <form action=\"/search\" method=\"get\">\n",
      "         <input class=\"form-control\" name=\"q\" placeholder=\"search\" type=\"text\" value=\"\"/>\n",
      "        </form>\n",
      "       </div>\n",
      "      </nav>\n",
      "     </div>\n",
      "    </div>\n",
      "   </header>\n",
      "   <section id=\"content\">\n",
      "    <div class=\"content-wrap\">\n",
      "     <div class=\"container clearfix\">\n",
      "      <div class=\"center_wrapper\">\n",
      "       <div class=\"row\">\n",
      "        <div class=\"col-sm-12\">\n",
      "         <div class=\"inbox_inspiration text-left\">\n",
      "          <div class=\"row\">\n",
      "           <div class=\"col-sm-4\">\n",
      "            <h5>\n",
      "             Subscribe to our FREE\n",
      "             <br/>\n",
      "             inspirational quote emails!\n",
      "            </h5>\n",
      "            <form accept-charset=\"UTF-8\" action=\"/users\" class=\"simple_form new_user\" id=\"new_user\" method=\"post\" novalidate=\"novalidate\">\n",
      "             <input name=\"utf8\" type=\"hidden\" value=\"✓\"/>\n",
      "             <input name=\"authenticity_token\" type=\"hidden\" value=\"U1QmHxZ27fgTBnCvsTTXekepMiv6pnJbBwNeQF7ixYrZCNYkLa/rp0gukbVuPWIFxxWWT66Ww5tpEqwKTDADFg==\"/>\n",
      "             <div class=\"row\">\n",
      "              <div class=\"col-sm-8\">\n",
      "               <div class=\"input email optional user_email\">\n",
      "                <input class=\"string email optional sm-form-control sm-form-control-grey\" id=\"user_email\" name=\"user[email]\" placeholder=\"Type your email address\" style=\"height: 32px;\" type=\"email\"/>\n",
      "               </div>\n",
      "              </div>\n",
      "              <div class=\"col-sm-4\">\n",
      "               <input class=\"btn btn btn-default btn-red noradius btn-hero\" data-disable-with=\"Sending...\" name=\"commit\" type=\"submit\" value=\"Subscribe\"/>\n",
      "              </div>\n",
      "             </div>\n",
      "            </form>\n",
      "           </div>\n",
      "           <div class=\"col-sm-8\">\n",
      "            <div class=\"row\">\n",
      "             <div class=\"col-sm-4 bumper\">\n",
      "              <div class=\"cycle-slideshow\" data-cycle-fx=\"flipHorz\" data-cycle-timeout=\"7000\">\n",
      "               <img alt=\"20170116 monday quote\" class=\"img-responsive\" src=\"https://quotes.values.com/quote_artwork/3763/medium/20170116_monday_quote.jpg\"/>\n",
      "               <img alt=\"Friday quote\" class=\"img-responsive\" src=\"https://quotes.values.com/quote_artwork/7347/medium/friday_quote.jpg\"/>\n",
      "               <img alt=\"20170303 friday quote\" class=\"img-responsive\" src=\"https://quotes.values.com/quote_artwork/5014/medium/20170303_friday_quote.jpg\"/>\n",
      "              </div>\n",
      "             </div>\n",
      "             <div class=\"col-sm-4 bumper\">\n",
      "              <div class=\"cycle-slideshow\" data-cycle-fx=\"flipHorz\" data-cycle-timeout=\"6800\">\n",
      "               <img alt=\"20161213 tuesday quote new\" class=\"img-responsive\" src=\"https://quotes.values.com/quote_artwork/7579/medium/20161213_tuesday_quote_new.jpg\"/>\n",
      "               <img alt=\"Monday quote\" class=\"img-responsive\" src=\"https://quotes.values.com/quote_artwork/7313/medium/monday_quote.jpg\"/>\n",
      "               <img alt=\"Friday quote\" class=\"img-responsive\" src=\"https://quotes.values.com/quote_artwork/7302/medium/friday_quote.jpg\"/>\n",
      "              </div>\n",
      "             </div>\n",
      "             <div class=\"col-sm-4 bumper\">\n",
      "              <div class=\"cycle-slideshow\" data-cycle-fx=\"flipHorz\" data-cycle-timeout=\"6600\">\n",
      "               <img alt=\"20160906 tuesday quote\" class=\"img-responsive\" src=\"https://quotes.values.com/quote_artwork/6741/medium/20160906_tuesday_quote.jpg\"/>\n",
      "               <img alt=\"Wednesday quote\" class=\"img-responsive\" src=\"https://quotes.values.com/quote_artwork/7280/medium/wednesday_quote.jpg\"/>\n",
      "               <img alt=\"Tuesday quote\" class=\"img-responsive\" src=\"https://quotes.values.com/quote_artwork/7279/medium/tuesday_quote.jpg\"/>\n",
      "              </div>\n",
      "             </div>\n",
      "            </div>\n",
      "           </div>\n",
      "          </div>\n",
      "         </div>\n",
      "        </div>\n",
      "       </div>\n",
      "       <div class=\"row\">\n",
      "        <div class=\"col-sm-6 col-sm-offset-3\">\n",
      "         <form action=\"/inspirational-quotes\" class=\"nobottommargin\" id=\"\" method=\"get\" role=\"form\">\n",
      "          <div class=\"input-group divcenter\">\n",
      "           <input class=\"form-control\" name=\"q\" placeholder=\"Search quotes...\" type=\"text\"/>\n",
      "           <span class=\"input-group-btn\">\n",
      "            <button class=\"btn btn-default\" type=\"submit\">\n",
      "             search\n",
      "            </button>\n",
      "           </span>\n",
      "          </div>\n",
      "         </form>\n",
      "         <hr/>\n",
      "        </div>\n",
      "       </div>\n",
      "      </div>\n",
      "      <div class=\"clear\">\n",
      "      </div>\n",
      "      <div class=\"portfolio grid-container portfolio-4 portfolio-masonry clearfix\" id=\"portfolio\">\n",
      "       <article class=\"portfolio-item quotation optimism\">\n",
      "        <div class=\"portfolio-image\">\n",
      "         <a href=\"/inspirational-quotes/7856-the-secret-of-change-is-to-focus-all-of-your\">\n",
      "          <img alt=\"The secret of change is to focus all of your energy, not on fighting the old, but on building the new. #&lt;Author:0x007f2246ce37a8&gt;\" class=\"hover\" src=\"https://quotes.values.com/quote_artwork/7856/medium/20190103_thursday_quote.jpg?1546034335\"/>\n",
      "         </a>\n",
      "        </div>\n",
      "       </article>\n",
      "       <article class=\"portfolio-item quotation optimism\">\n",
      "        <div class=\"portfolio-image\">\n",
      "         <a href=\"/inspirational-quotes/7855-i-close-my-eyes-to-old-ends-and-open-my-heart\">\n",
      "          <img alt=\"I close my eyes to old ends. And open my heart to new beginnings. #&lt;Author:0x007f2246fdf3d0&gt;\" class=\"hover\" src=\"https://quotes.values.com/quote_artwork/7855/medium/20190102_wednesday_quote.jpg?1546034298\"/>\n",
      "         </a>\n",
      "        </div>\n",
      "       </article>\n",
      "       <article class=\"portfolio-item quotation optimism\">\n",
      "        <div class=\"portfolio-image\">\n",
      "         <a href=\"/inspirational-quotes/7858-what-a-wonderful-thought-it-is-that-some-of-the\">\n",
      "          <img alt=\"What a wonderful thought it is that some of the best days of our lives haven't even happened yet. #&lt;Author:0x007f2246fd9e30&gt;\" class=\"hover\" src=\"https://quotes.values.com/quote_artwork/7858/medium/20190101_tuesday_quote_alternate.jpg?1546208533\"/>\n",
      "         </a>\n",
      "        </div>\n",
      "       </article>\n",
      "       <article class=\"portfolio-item quotation optimism\">\n",
      "        <div class=\"portfolio-image\">\n",
      "         <a href=\"/inspirational-quotes/3998-the-future-belongs-to-those-who-believe-in-the\">\n",
      "          <img alt=\"The future belongs to those who believe in the beauty of their dreams. #&lt;Author:0x007f2246693b50&gt;\" class=\"hover\" src=\"https://quotes.values.com/quote_artwork/3998/medium/20181231_monday_quote_alternate.jpg?1546208733\"/>\n",
      "         </a>\n",
      "        </div>\n",
      "       </article>\n",
      "       <article class=\"portfolio-item quotation love\">\n",
      "        <div class=\"portfolio-image\">\n",
      "         <a href=\"/inspirational-quotes/7682-love-is-not-only-something-you-feel-it-is\">\n",
      "          <img alt=\"Love is not only something you feel, it is something you do. #&lt;Author:0x007f22464cb2c8&gt;\" class=\"hover\" src=\"https://quotes.values.com/quote_artwork/7682/medium/20181228_friday_quote.jpg?1545417482\"/>\n",
      "         </a>\n",
      "        </div>\n",
      "       </article>\n",
      "       <article class=\"portfolio-item quotation love\">\n",
      "        <div class=\"portfolio-image\">\n",
      "         <a href=\"/inspirational-quotes/7593-your-circumstance-doesn-t-make-life\">\n",
      "          <img alt=\"Your circumstance doesn’t make life extraordinary. Love does. #&lt;Author:0x007f224644b0a0&gt;\" class=\"hover\" src=\"https://quotes.values.com/quote_artwork/7593/medium/20181227_thursday_quote.jpg?1545417444\"/>\n",
      "         </a>\n",
      "        </div>\n",
      "       </article>\n",
      "       <article class=\"portfolio-item quotation love\">\n",
      "        <div class=\"portfolio-image\">\n",
      "         <a href=\"/inspirational-quotes/6900-let-us-see-what-love-can-do\">\n",
      "          <img alt=\"Let us see what love can do. #&lt;Author:0x007f22462a71b8&gt;\" class=\"hover\" src=\"https://quotes.values.com/quote_artwork/6900/medium/20181226_wednesday_quote.jpg?1545417393\"/>\n",
      "         </a>\n",
      "        </div>\n",
      "       </article>\n",
      "       <article class=\"portfolio-item quotation love\">\n",
      "        <div class=\"portfolio-image\">\n",
      "         <a href=\"/inspirational-quotes/6909-and-the-grinch-with-his-grinch-feet-ice-cold\">\n",
      "          <img alt=\"And the Grinch, with his Grinch-feet ice cold in the snow, stood puzzling and puzzling, how could it be so? It came without ribbons. It came without tags. It came without packages, boxes or bags. And he puzzled and puzzled 'till his puzzler was sore. Then the Grinch thought of something he hadn't before. What if Christmas, he thought, doesn't come from a store? What if Christmas, perhaps, means a little bit more? #&lt;Author:0x007f2246174e58&gt;\" class=\"hover\" src=\"https://quotes.values.com/quote_artwork/6909/medium/20181225_tuesday_quote.jpg?1545417358\"/>\n",
      "         </a>\n",
      "        </div>\n",
      "       </article>\n",
      "       <article class=\"portfolio-item quotation love\">\n",
      "        <div class=\"portfolio-image\">\n",
      "         <a href=\"/inspirational-quotes/3548-the-love-in-your-heart-wasnt-put-there-to-stay\">\n",
      "          <img alt=\"The love in your heart wasn't put there to stay. Love isn't love 'til you give it away. #&lt;Author:0x007f2245fcded8&gt;\" class=\"hover\" src=\"https://quotes.values.com/quote_artwork/3548/medium/20181224_monday_quote.jpg?1545417323\"/>\n",
      "         </a>\n",
      "        </div>\n",
      "       </article>\n",
      "       <article class=\"portfolio-item quotation family\">\n",
      "        <div class=\"portfolio-image\">\n",
      "         <a href=\"/inspirational-quotes/4770-what-greater-thing-is-there-for-human-souls\">\n",
      "          <img alt=\"What greater thing is there for human souls than to feel that they are joined for life - to be with each other in silent unspeakable memories. #&lt;Author:0x007f2245e9d040&gt;\" class=\"hover\" src=\"https://quotes.values.com/quote_artwork/4770/medium/20181221_friday_quote.jpg?1544814559\"/>\n",
      "         </a>\n",
      "        </div>\n",
      "       </article>\n",
      "       <article class=\"portfolio-item quotation family\">\n",
      "        <div class=\"portfolio-image\">\n",
      "         <a href=\"/inspirational-quotes/7853-my-family-is-my-life-and-everything-else-comes\">\n",
      "          <img alt=\"My family is my life, and everything else comes second as far as what's important to me. #&lt;Author:0x007f2245dca820&gt;\" class=\"hover\" src=\"https://quotes.values.com/quote_artwork/7853/medium/20181220_thursday_quote.jpg?1545070947\"/>\n",
      "         </a>\n",
      "        </div>\n",
      "       </article>\n",
      "       <article class=\"portfolio-item quotation family\">\n",
      "        <div class=\"portfolio-image\">\n",
      "         <a href=\"/inspirational-quotes/7183-having-somewhere-to-go-is-home-having-someone\">\n",
      "          <img alt=\"Having somewhere to go is home, having someone to love is family, having both is blessing. #&lt;Author:0x007f2245d105b0&gt;\" class=\"hover\" src=\"https://quotes.values.com/quote_artwork/7183/medium/20181219_wednesday_quote.jpg?1544814499\"/>\n",
      "         </a>\n",
      "        </div>\n",
      "       </article>\n",
      "       <article class=\"portfolio-item quotation family\">\n",
      "        <div class=\"portfolio-image\">\n",
      "         <a href=\"/inspirational-quotes/7852-family-and-friends-are-hidden-treasures-seek\">\n",
      "          <img alt=\"Family and friends are hidden treasures, seek them and enjoy their riches. #&lt;Author:0x007f2245316dc0&gt;\" class=\"hover\" src=\"https://quotes.values.com/quote_artwork/7852/medium/20181218_tuesday_quote.jpg?1544814470\"/>\n",
      "         </a>\n",
      "        </div>\n",
      "       </article>\n",
      "       <article class=\"portfolio-item quotation family\">\n",
      "        <div class=\"portfolio-image\">\n",
      "         <a href=\"/inspirational-quotes/7182-the-bond-that-links-your-true-family-is-not-one\">\n",
      "          <img alt=\"The bond that links your true family is not one of blood, but of respect and joy in each other's life. Rarely do members of one family grow up under the same roof. #&lt;Author:0x007f224576f778&gt;\" class=\"hover\" src=\"https://quotes.values.com/quote_artwork/7182/medium/20181217_monday_quote.jpg?1544814443\"/>\n",
      "         </a>\n",
      "        </div>\n",
      "       </article>\n",
      "       <article class=\"portfolio-item quotation giving back\">\n",
      "        <div class=\"portfolio-image\">\n",
      "         <a href=\"/inspirational-quotes/7077-the-best-way-to-find-yourself-is-to-lose\">\n",
      "          <img alt=\"The best way to find yourself is to lose yourself in the service of others. #&lt;Author:0x007f2245680ce0&gt;\" class=\"hover\" src=\"https://quotes.values.com/quote_artwork/7077/medium/20181214_friday_quote_alternate.jpg?1544207576\"/>\n",
      "         </a>\n",
      "        </div>\n",
      "       </article>\n",
      "       <article class=\"portfolio-item quotation giving back\">\n",
      "        <div class=\"portfolio-image\">\n",
      "         <a href=\"/inspirational-quotes/3685-lifes-most-urgent-question-is-what-are-you\">\n",
      "          <img alt=\"Life's most urgent question is: What are you doing for others? #&lt;Author:0x007f2245651170&gt;\" class=\"hover\" src=\"https://quotes.values.com/quote_artwork/3685/medium/20181213_thursday_quote.jpg?1544207538\"/>\n",
      "         </a>\n",
      "        </div>\n",
      "       </article>\n",
      "      </div>\n",
      "     </div>\n",
      "    </div>\n",
      "    <div class=\"center_wrapper\">\n",
      "     <div class=\"pagination-centered\" id=\"infinite-scrolling\">\n",
      "      <ul class=\"pagination\">\n",
      "       <li class=\"prev previous_page unavailable\">\n",
      "        <a href=\"#\">\n",
      "         «\n",
      "        </a>\n",
      "       </li>\n",
      "       <li class=\"current\">\n",
      "        <a href=\"/inspirational-quotes?page=1\">\n",
      "         1\n",
      "        </a>\n",
      "       </li>\n",
      "       <li>\n",
      "        <a href=\"/inspirational-quotes?page=2\" rel=\"next\">\n",
      "         2\n",
      "        </a>\n",
      "       </li>\n",
      "       <li>\n",
      "        <a href=\"/inspirational-quotes?page=3\">\n",
      "         3\n",
      "        </a>\n",
      "       </li>\n",
      "       <li>\n",
      "        <a href=\"/inspirational-quotes?page=4\">\n",
      "         4\n",
      "        </a>\n",
      "       </li>\n",
      "       <li>\n",
      "        <a href=\"/inspirational-quotes?page=5\">\n",
      "         5\n",
      "        </a>\n",
      "       </li>\n",
      "       <li class=\"unavailable\">\n",
      "        <a href=\"#\">\n",
      "         <span class=\"gap\">\n",
      "          …\n",
      "         </span>\n",
      "        </a>\n",
      "       </li>\n",
      "       <li>\n",
      "        <a href=\"/inspirational-quotes?page=221\">\n",
      "         221\n",
      "        </a>\n",
      "       </li>\n",
      "       <li class=\"next next_page \">\n",
      "        <a href=\"/inspirational-quotes?page=2\" rel=\"next\">\n",
      "         »\n",
      "        </a>\n",
      "       </li>\n",
      "      </ul>\n",
      "     </div>\n",
      "    </div>\n",
      "   </section>\n",
      "   <footer class=\"dark\" id=\"footer\">\n",
      "    <div class=\"container clearfix\">\n",
      "     <div class=\"row\">\n",
      "      <div class=\"col-sm-3\">\n",
      "       <ul class=\"footer_nav_links\">\n",
      "        <li>\n",
      "         <a href=\"/inspirational-quotes\">\n",
      "          Inspirational Quotations\n",
      "         </a>\n",
      "        </li>\n",
      "        <li>\n",
      "         <a href=\"/inspirational-stories-tv-spots\">\n",
      "          Pass It On Videos\n",
      "         </a>\n",
      "        </li>\n",
      "        <li>\n",
      "         <a href=\"/inspirational-sayings-billboards\">\n",
      "          Billboards\n",
      "         </a>\n",
      "        </li>\n",
      "        <li>\n",
      "         <a href=\"/radio\">\n",
      "          Radio Ads\n",
      "         </a>\n",
      "        </li>\n",
      "        <li>\n",
      "         <a href=\"/inspirational-audio-stories\">\n",
      "          Podcasts\n",
      "         </a>\n",
      "        </li>\n",
      "        <li>\n",
      "         <a href=\"/pass-it-on-ecards\">\n",
      "          Ecards\n",
      "         </a>\n",
      "        </li>\n",
      "        <li>\n",
      "         <a href=\"/pass-it-on-downloads\">\n",
      "          Downloads\n",
      "         </a>\n",
      "        </li>\n",
      "       </ul>\n",
      "      </div>\n",
      "      <div class=\"col-sm-3\">\n",
      "       <ul class=\"footer_nav_links\">\n",
      "        <li>\n",
      "         <a href=\"/your-inspirational-stories\">\n",
      "          Your Value Stories\n",
      "         </a>\n",
      "        </li>\n",
      "        <li>\n",
      "         <a href=\"/your-inspirational-stories/submit\">\n",
      "          What Value Defines You?\n",
      "         </a>\n",
      "        </li>\n",
      "        <li>\n",
      "         <a href=\"/your-everyday-heroes\">\n",
      "          Your Hero Stories\n",
      "         </a>\n",
      "        </li>\n",
      "        <li>\n",
      "         <a href=\"/your-everyday-heroes/submit\">\n",
      "          Tell Us About Your Hero\n",
      "         </a>\n",
      "        </li>\n",
      "        <li>\n",
      "         <a href=\"/your-billboards\">\n",
      "          Create Your Own Billboard\n",
      "         </a>\n",
      "        </li>\n",
      "        <li>\n",
      "         <a href=\"/users/subscribe\">\n",
      "          Subscribe to Daily Quotes\n",
      "         </a>\n",
      "        </li>\n",
      "        <li>\n",
      "         <a href=\"/poster-requests/new\">\n",
      "          Free Posters &amp; DVD for Schools\n",
      "         </a>\n",
      "        </li>\n",
      "       </ul>\n",
      "      </div>\n",
      "      <div class=\"col-sm-3\">\n",
      "       <ul class=\"footer_nav_links\">\n",
      "        <li>\n",
      "         <a href=\"/who-we-are\">\n",
      "          About Us\n",
      "         </a>\n",
      "        </li>\n",
      "        <li>\n",
      "         <a href=\"/who-we-are#faqs\">\n",
      "          FAQs\n",
      "         </a>\n",
      "        </li>\n",
      "        <li>\n",
      "         <a href=\"/contact-us\">\n",
      "          Contact Us\n",
      "         </a>\n",
      "        </li>\n",
      "        <li>\n",
      "         <a href=\"/who-we-are#awards\">\n",
      "          Foundation Recognition\n",
      "         </a>\n",
      "        </li>\n",
      "        <li>\n",
      "         <a href=\"/who-we-are#media\">\n",
      "          For Media Companies\n",
      "         </a>\n",
      "        </li>\n",
      "        <li>\n",
      "         <a href=\"/terms-of-use\">\n",
      "          Terms of Use\n",
      "         </a>\n",
      "         &amp;\n",
      "         <a href=\"/privacy-policy\">\n",
      "          Privacy Policy\n",
      "         </a>\n",
      "        </li>\n",
      "        <li style=\"color: #1a1a1a;\">\n",
      "         en\n",
      "        </li>\n",
      "       </ul>\n",
      "       <div class=\"clearfix\">\n",
      "       </div>\n",
      "      </div>\n",
      "      <div class=\"col-sm-3\">\n",
      "       <a href=\"/\">\n",
      "        <img alt=\"Passiton footer logo\" height=\"26\" src=\"/assets/passiton_footer_logo-096b4c04a71fdd79573aea3579388f88.png\" style=\"margin-bottom: 20px;\" width=\"200\"/>\n",
      "       </a>\n",
      "       <br/>\n",
      "       <ul class=\"passiton-share-icons\">\n",
      "        <li>\n",
      "         <a class=\"social-icon si-small si-rounded si-facebook\" href=\"https://www.facebook.com/valuescom\">\n",
      "          <i class=\"icon-facebook\">\n",
      "          </i>\n",
      "         </a>\n",
      "        </li>\n",
      "        <li>\n",
      "         <a class=\"social-icon si-small si-rounded si-twitter\" href=\"https://twitter.com/valuescom\">\n",
      "          <i class=\"icon-twitter\">\n",
      "          </i>\n",
      "         </a>\n",
      "        </li>\n",
      "        <li>\n",
      "         <a class=\"social-icon si-small si-rounded si-instagram\" href=\"https://www.instagram.com/passiton_com/\">\n",
      "          <i class=\"icon-instagram\">\n",
      "          </i>\n",
      "         </a>\n",
      "        </li>\n",
      "        <li>\n",
      "         <a class=\"social-icon si-small si-rounded si-youtube\" href=\"https://www.youtube.com/c/PassItOncom\">\n",
      "          <i class=\"icon-youtube-play\">\n",
      "          </i>\n",
      "         </a>\n",
      "        </li>\n",
      "        <li>\n",
      "         <a class=\"social-icon si-small si-rounded si-pinterest\" href=\"https://www.pinterest.com/passiton/\">\n",
      "          <i class=\"icon-pinterest\">\n",
      "          </i>\n",
      "         </a>\n",
      "        </li>\n",
      "       </ul>\n",
      "      </div>\n",
      "     </div>\n",
      "    </div>\n",
      "   </footer>\n",
      "  </div>\n",
      "  <div class=\"icon-angle-up\" id=\"gotoTop\">\n",
      "  </div>\n",
      "  <script src=\"/assets/application-739eb79af205cb6d65cef9be8c483acb.js\">\n",
      "  </script>\n",
      " </body>\n",
      "</html>\n"
     ]
    }
   ],
   "source": [
    "print(soup.prettify())"
   ]
  },
  {
   "cell_type": "code",
   "execution_count": 77,
   "metadata": {
    "scrolled": false
   },
   "outputs": [],
   "source": [
    "article_divs = soup.findAll('article')"
   ]
  },
  {
   "cell_type": "code",
   "execution_count": 79,
   "metadata": {},
   "outputs": [],
   "source": [
    "article_div = article_divs[0]"
   ]
  },
  {
   "cell_type": "code",
   "execution_count": 80,
   "metadata": {},
   "outputs": [
    {
     "data": {
      "text/plain": [
       "<article class=\"portfolio-item quotation optimism\">\n",
       "    <div class=\"portfolio-image\">\n",
       "        <a href=\"/inspirational-quotes/7856-the-secret-of-change-is-to-focus-all-of-your\"><img alt=\"The secret of change is to focus all of your energy, not on fighting the old, but on building the new. #&lt;Author:0x007f2246ce37a8&gt;\" class=\"hover\" src=\"https://quotes.values.com/quote_artwork/7856/medium/20190103_thursday_quote.jpg?1546034335\"/></a>\n",
       "    </div>\n",
       "</article>"
      ]
     },
     "execution_count": 80,
     "metadata": {},
     "output_type": "execute_result"
    }
   ],
   "source": [
    "article_div"
   ]
  },
  {
   "cell_type": "code",
   "execution_count": 84,
   "metadata": {},
   "outputs": [
    {
     "data": {
      "text/plain": [
       "'The secret of change is to focus all of your energy, not on fighting the old, but on building the new. #<Author:0x007f2246ce37a8>'"
      ]
     },
     "execution_count": 84,
     "metadata": {},
     "output_type": "execute_result"
    }
   ],
   "source": [
    "article_div.div.a.img['alt']"
   ]
  },
  {
   "cell_type": "code",
   "execution_count": 87,
   "metadata": {},
   "outputs": [
    {
     "data": {
      "text/plain": [
       "'https://quotes.values.com/quote_artwork/7856/medium/20190103_thursday_quote.jpg?1546034335'"
      ]
     },
     "execution_count": 87,
     "metadata": {},
     "output_type": "execute_result"
    }
   ],
   "source": [
    "article_div.div.a.img['src']"
   ]
  },
  {
   "cell_type": "code",
   "execution_count": 90,
   "metadata": {},
   "outputs": [
    {
     "data": {
      "text/plain": [
       "'Inspirational Quotes - Motivational Quotes - Leadership Quotes | PassItOn.com'"
      ]
     },
     "execution_count": 90,
     "metadata": {},
     "output_type": "execute_result"
    }
   ],
   "source": [
    "soup.head.title.text"
   ]
  },
  {
   "cell_type": "code",
   "execution_count": 91,
   "metadata": {},
   "outputs": [],
   "source": [
    "articles = []"
   ]
  },
  {
   "cell_type": "code",
   "execution_count": 92,
   "metadata": {},
   "outputs": [],
   "source": [
    "for article_div in article_divs:\n",
    "    article = {}\n",
    "    article['img'] = article_div.div.a.img['src']\n",
    "    article['txt'] = article_div.div.a.img['alt']\n",
    "    articles.append(article)"
   ]
  },
  {
   "cell_type": "code",
   "execution_count": 94,
   "metadata": {},
   "outputs": [],
   "source": [
    "import json"
   ]
  },
  {
   "cell_type": "code",
   "execution_count": 95,
   "metadata": {},
   "outputs": [],
   "source": [
    "with open(\"quotes.json\", 'w') as f:\n",
    "    f.write(json.dumps(articles))"
   ]
  },
  {
   "cell_type": "code",
   "execution_count": 96,
   "metadata": {},
   "outputs": [],
   "source": [
    "import csv"
   ]
  },
  {
   "cell_type": "code",
   "execution_count": 100,
   "metadata": {},
   "outputs": [],
   "source": [
    "with open(\"quotes.csv\", 'w') as f:\n",
    "    csv_writer = csv.DictWriter(f, ['img', 'txt'])\n",
    "    csv_writer.writeheader()\n",
    "    csv_writer.writerows(articles)"
   ]
  },
  {
   "cell_type": "markdown",
   "metadata": {},
   "source": [
    "![](http://www.entropywebscraping.com/wp-content/uploads/2017/02/Screenshot-from-2017-02-01-10-23-00.png)"
   ]
  },
  {
   "cell_type": "markdown",
   "metadata": {},
   "source": [
    "# 4. Web automation\n",
    " \n",
    " ![](https://images.contentful.com/qs7jgwzogkzr/6HeUbprAsMYek2Keqi0WYo/d8ad7cf2f15e706ead76e00a53859cc7/testing-automation-alternatives.jpg)\n",
    " \n",
    " **Task:** Automatically submit the code for a [problem](https://www.codechef.com/problems/TEST) on [codechef](https://www.codechef.com/).\n",
    " \n",
    " ### [Selenium](http://selenium-python.readthedocs.io/) : Web automation and testing\n",
    " \n",
    " ![](https://udemy-images.udemy.com/course/750x422/482754_7146_4.jpg)\n",
    " \n",
    " \n",
    " #### Installation\n",
    " \n",
    " - To install python bindings for selenium:\n",
    "     ```\n",
    "     pip install selenium\n",
    "     ```\n",
    "     \n",
    " - To install webdriver:\n",
    " \n",
    "     http://selenium-python.readthedocs.io/installation.html#drivers\n",
    "     \n",
    "     [How to put webdriver in PATH?](https://stackoverflow.com/questions/40208051/selenium-using-python-geckodriver-executable-needs-to-be-in-path)\n",
    " \n",
    " #### To start a browser session\n",
    " ```python\n",
    " from selenium import webdriver\n",
    " browser = webdriver.Chrome()\n",
    " ```\n",
    " \n",
    " #### To open a webpage\n",
    " ```python\n",
    " browser.get('https://www.codechef.com')\n",
    " ```\n",
    " \n",
    " #### To select an element by its id\n",
    " ```python\n",
    " browser.find_element_by_id(<id>)\n",
    " ```\n",
    " \n",
    " #### Input value in element\n",
    " ```python\n",
    " element.send_keys()\n",
    " ```\n",
    " \n",
    " #### Click on an element\n",
    " ```python\n",
    " element.click()\n",
    " ```"
   ]
  },
  {
   "cell_type": "code",
   "execution_count": 101,
   "metadata": {},
   "outputs": [],
   "source": [
    "from selenium import webdriver"
   ]
  },
  {
   "cell_type": "code",
   "execution_count": 133,
   "metadata": {},
   "outputs": [],
   "source": [
    "browser = webdriver.Chrome()"
   ]
  },
  {
   "cell_type": "code",
   "execution_count": 134,
   "metadata": {},
   "outputs": [],
   "source": [
    "browser.get(\"https://www.codechef.com\")"
   ]
  },
  {
   "cell_type": "code",
   "execution_count": 135,
   "metadata": {},
   "outputs": [],
   "source": [
    "user_element = browser.find_element_by_id('edit-name')"
   ]
  },
  {
   "cell_type": "code",
   "execution_count": 136,
   "metadata": {},
   "outputs": [],
   "source": [
    "user_element.send_keys(\"nikhilksingh97\")"
   ]
  },
  {
   "cell_type": "code",
   "execution_count": 137,
   "metadata": {},
   "outputs": [],
   "source": [
    "pass_element = browser.find_element_by_id('edit-pass')"
   ]
  },
  {
   "cell_type": "code",
   "execution_count": 138,
   "metadata": {},
   "outputs": [],
   "source": [
    "from getpass import getpass"
   ]
  },
  {
   "cell_type": "code",
   "execution_count": null,
   "metadata": {},
   "outputs": [],
   "source": [
    "pass_element.send_keys(getpass(\"Enter password:\"))"
   ]
  },
  {
   "cell_type": "code",
   "execution_count": 140,
   "metadata": {},
   "outputs": [],
   "source": [
    "browser.find_element_by_id('edit-submit').click()"
   ]
  },
  {
   "cell_type": "code",
   "execution_count": 141,
   "metadata": {},
   "outputs": [],
   "source": [
    "browser.get(\"https://www.codechef.com/submit/TEST/\")"
   ]
  },
  {
   "cell_type": "code",
   "execution_count": 143,
   "metadata": {},
   "outputs": [],
   "source": [
    "browser.find_element_by_id('edit_area_toggle_checkbox_edit-program').click()"
   ]
  },
  {
   "cell_type": "code",
   "execution_count": 144,
   "metadata": {},
   "outputs": [],
   "source": [
    "with open(\"solution.cpp\", 'r') as f:\n",
    "    code = f.read()"
   ]
  },
  {
   "cell_type": "code",
   "execution_count": 146,
   "metadata": {},
   "outputs": [],
   "source": [
    "browser.find_element_by_id('edit-program').send_keys(code)"
   ]
  },
  {
   "cell_type": "code",
   "execution_count": 147,
   "metadata": {},
   "outputs": [],
   "source": [
    "browser.find_element_by_xpath('//*[@id=\"edit-language\"]/option[2]').click()"
   ]
  },
  {
   "cell_type": "code",
   "execution_count": 148,
   "metadata": {},
   "outputs": [],
   "source": [
    "browser.find_element_by_id('edit-submit-1').click()"
   ]
  },
  {
   "cell_type": "code",
   "execution_count": 150,
   "metadata": {},
   "outputs": [],
   "source": [
    "soup = BeautifulSoup(browser.page_source, 'html5lib')"
   ]
  },
  {
   "cell_type": "code",
   "execution_count": 156,
   "metadata": {
    "scrolled": false
   },
   "outputs": [
    {
     "data": {
      "text/plain": [
       "'Correct Answer'"
      ]
     },
     "execution_count": 156,
     "metadata": {},
     "output_type": "execute_result"
    }
   ],
   "source": [
    "soup.find('div', {'id': 'result-box'}).div.strong.text"
   ]
  },
  {
   "cell_type": "code",
   "execution_count": null,
   "metadata": {},
   "outputs": [],
   "source": []
  },
  {
   "cell_type": "code",
   "execution_count": null,
   "metadata": {},
   "outputs": [],
   "source": []
  },
  {
   "cell_type": "code",
   "execution_count": 157,
   "metadata": {},
   "outputs": [
    {
     "data": {
      "text/plain": [
       "'2.21.0'"
      ]
     },
     "execution_count": 157,
     "metadata": {},
     "output_type": "execute_result"
    }
   ],
   "source": [
    "requests.__version__"
   ]
  },
  {
   "cell_type": "markdown",
   "metadata": {},
   "source": [
    "![](https://i.imgflip.com/poxkz.jpg)"
   ]
  },
  {
   "cell_type": "markdown",
   "metadata": {},
   "source": [
    "## Resourses:\n",
    "\n",
    "- Python packages:\n",
    "\n",
    "    - [requests](http://docs.python-requests.org/en/master/)\n",
    "\n",
    "    - [bs4](https://www.crummy.com/software/BeautifulSoup/bs4/doc/)\n",
    "    \n",
    "    - [html5lib](https://html5lib.readthedocs.io/en/latest/)\n",
    " \n",
    "\n",
    "- Articles:\n",
    "\n",
    "    - https://indianpythonista.wordpress.com/2016/12/10/get-and-post-requests-using-python/\n",
    "\n",
    "    - https://indianpythonista.wordpress.com/2016/10/18/requests-http-for-pythonistas/\n",
    "\n",
    "    - https://indianpythonista.wordpress.com/2016/12/10/downloading-files-from-web-using-python/\n",
    "\n",
    "    - https://indianpythonista.wordpress.com/2016/12/10/implementing-web-scraping-in-python-with-beautiful-soup/\n",
    "\n",
    "\n",
    "- Videos:\n",
    "\n",
    "    - File downloader: https://www.youtube.com/watch?v=Xhw2l-hzoKk\n",
    "    - Web scraping: https://www.youtube.com/watch?v=lIkd_jt28i0&t=557s"
   ]
  }
 ],
 "metadata": {
  "kernelspec": {
   "display_name": "Python 3",
   "language": "python",
   "name": "python3"
  },
  "language_info": {
   "codemirror_mode": {
    "name": "ipython",
    "version": 3
   },
   "file_extension": ".py",
   "mimetype": "text/x-python",
   "name": "python",
   "nbconvert_exporter": "python",
   "pygments_lexer": "ipython3",
   "version": "3.6.7"
  }
 },
 "nbformat": 4,
 "nbformat_minor": 2
}
